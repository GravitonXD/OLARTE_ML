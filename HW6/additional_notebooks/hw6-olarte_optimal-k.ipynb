{
 "cells": [
  {
   "cell_type": "markdown",
   "metadata": {},
   "source": [
    "## Exploration on k values\n",
    "I was very curiosed if we actually have reached an optimal k value in filtering the dictionary of words. So I decided to create a loop that checks the recall score for different k values, until such time that we have reached the optimal k value (that is the k value that gives us the highest recall score)."
   ]
  },
  {
   "cell_type": "code",
   "execution_count": 1,
   "metadata": {},
   "outputs": [],
   "source": [
    "# IMPORTS\n",
    "import numpy as np\n",
    "import pandas as pd\n",
    "import matplotlib.pyplot as plt\n",
    "import sklearn # To be use only for standardization, splitting of datasets, model evaluation and comparison\n",
    "import seaborn as sns\n",
    "from sklearn.metrics import recall_score"
   ]
  },
  {
   "cell_type": "code",
   "execution_count": 2,
   "metadata": {},
   "outputs": [],
   "source": [
    "# Load the dataset (type a)\n",
    "# I have made other classifier based on the other dataset types which can be accessed in the ./additional_notebooks directory\n",
    "main_df = pd.read_csv(\"../preprocessed_files/preprocessed_emails_a.csv\")\n",
    "\n",
    "# Split the dataset into training and testing\n",
    "# Folders 0-70 are training, 71-126 are testing\n",
    "train_df = main_df[main_df['folder'] <= 70]\n",
    "test_df = main_df[main_df['folder'] > 70]\n",
    "\n",
    "# Split training to spam and ham\n",
    "train_spam_df = train_df[train_df['category'] == 1]\n",
    "train_ham_df = train_df[train_df['category'] == 0]"
   ]
  },
  {
   "cell_type": "code",
   "execution_count": 3,
   "metadata": {},
   "outputs": [],
   "source": [
    "# From training_df, get the top 10000 words and their counts (store this in a dictionary)\n",
    "dict_words = {}\n",
    "\n",
    "for index, row in train_df.iterrows():\n",
    "    for word in str(row['email_message']).split():\n",
    "        if word in dict_words:\n",
    "            dict_words[word] += 1\n",
    "        else:\n",
    "            dict_words[word] = 1\n",
    "\n",
    "# Sort the dictionary by value (descending)\n",
    "sorted_dict = sorted(dict_words.items(), key=lambda x: x[1], reverse=True)"
   ]
  },
  {
   "cell_type": "code",
   "execution_count": 4,
   "metadata": {},
   "outputs": [],
   "source": [
    "# Redefine the classify function to be used with filtered dictionary\n",
    "def classify(email, spam_word_probs, ham_word_probs, p_spam, p_ham, fil_dict, fil_list):\n",
    "    # Initialize the log probability of spam and ham\n",
    "    log_p_spam = 0\n",
    "    log_p_ham = 0\n",
    "    \n",
    "    # Split the email into words\n",
    "    words = str(email).split()\n",
    "    \n",
    "    # Compute the log probability of spam and ham\n",
    "    for word in words:\n",
    "        if word in fil_dict:\n",
    "            log_p_spam += np.log(spam_word_probs[fil_list.index(word)])\n",
    "            log_p_ham += np.log(ham_word_probs[fil_list.index(word)])\n",
    "    \n",
    "    # Add the log probability of spam and ham\n",
    "    log_p_spam += np.log(p_spam)\n",
    "    log_p_ham += np.log(p_ham)\n",
    "    \n",
    "    # Return the class with the highest probability\n",
    "    if log_p_spam > log_p_ham:\n",
    "        return 1\n",
    "    else:\n",
    "        return 0"
   ]
  },
  {
   "cell_type": "code",
   "execution_count": 5,
   "metadata": {},
   "outputs": [],
   "source": [
    "def laplace_smoothing(feature_matrix_spam, feature_matrix_ham, laplace_smoothing_val , num_classes, fil_dict):\n",
    "    # Initialize the probability of each word given spam and ham\n",
    "    p_word_given_spam = np.zeros(len(fil_dict))\n",
    "    p_word_given_ham = np.zeros(len(fil_dict))\n",
    "\n",
    "    # Calculate the word count for spam and ham\n",
    "    spam_word_count = np.sum(feature_matrix_spam, axis=0)\n",
    "    ham_word_count = np.sum(feature_matrix_ham, axis=0)\n",
    "\n",
    "    # Calculate the total number of words in spam and ham\n",
    "    total_spam_words = np.sum(spam_word_count)\n",
    "    total_ham_words = np.sum(ham_word_count)\n",
    "\n",
    "    # Compute the probability of each word given spam and ham\n",
    "    for i in range(len(fil_dict)):\n",
    "        p_word_given_spam[i] = (spam_word_count[i] + laplace_smoothing_val) / (total_spam_words + laplace_smoothing_val * num_classes)\n",
    "        p_word_given_ham[i] = (ham_word_count[i] + laplace_smoothing_val) / (total_ham_words + laplace_smoothing_val * num_classes)\n",
    "\n",
    "    return p_word_given_spam, p_word_given_ham"
   ]
  },
  {
   "cell_type": "code",
   "execution_count": 6,
   "metadata": {},
   "outputs": [
    {
     "name": "stdout",
     "output_type": "stream",
     "text": [
      "P(spam) = 0.6468075117370892\n",
      "P(ham) = 0.3531924882629108\n"
     ]
    }
   ],
   "source": [
    "# Computing the Prior Probability of Spam and Ham\n",
    "# P(Spam) = # of spam emails / total # of emails\n",
    "# P(Ham) = # of ham emails / total # of emails\n",
    "n_spam = len(train_spam_df)\n",
    "n_ham = len(train_ham_df)\n",
    "n_train = len(train_df)\n",
    "\n",
    "# P(Spam)\n",
    "p_spam = n_spam / n_train\n",
    "\n",
    "# P(Ham)\n",
    "p_ham = n_ham / n_train\n",
    "\n",
    "print(f\"P(spam) = {p_spam}\")\n",
    "print(f\"P(ham) = {p_ham}\")"
   ]
  },
  {
   "cell_type": "code",
   "execution_count": 7,
   "metadata": {},
   "outputs": [
    {
     "name": "stderr",
     "output_type": "stream",
     "text": [
      "C:\\Users\\johnm\\AppData\\Local\\Temp\\ipykernel_18552\\943656828.py:31: SettingWithCopyWarning: \n",
      "A value is trying to be set on a copy of a slice from a DataFrame.\n",
      "Try using .loc[row_indexer,col_indexer] = value instead\n",
      "\n",
      "See the caveats in the documentation: https://pandas.pydata.org/pandas-docs/stable/user_guide/indexing.html#returning-a-view-versus-a-copy\n",
      "  test_df['predicted'] = test_df['email_message'].apply(lambda x: classify(x, p_word_given_spam, p_word_given_ham, p_spam, p_ham, filtered_dict, filtered_list))\n"
     ]
    },
    {
     "name": "stdout",
     "output_type": "stream",
     "text": [
      "Recall Score for k = 1: 0.9320161652447239\n",
      "Recall Score for k = 2: 0.9271665918275708\n"
     ]
    },
    {
     "name": "stderr",
     "output_type": "stream",
     "text": [
      "C:\\Users\\johnm\\AppData\\Local\\Temp\\ipykernel_18552\\943656828.py:31: SettingWithCopyWarning: \n",
      "A value is trying to be set on a copy of a slice from a DataFrame.\n",
      "Try using .loc[row_indexer,col_indexer] = value instead\n",
      "\n",
      "See the caveats in the documentation: https://pandas.pydata.org/pandas-docs/stable/user_guide/indexing.html#returning-a-view-versus-a-copy\n",
      "  test_df['predicted'] = test_df['email_message'].apply(lambda x: classify(x, p_word_given_spam, p_word_given_ham, p_spam, p_ham, filtered_dict, filtered_list))\n"
     ]
    }
   ],
   "source": [
    "k = 1\n",
    "recall_scores = []\n",
    "\n",
    "# For each k, calculate the recall score\n",
    "while k != 101:\n",
    "    sorted_dict = dict(sorted_dict)\n",
    "    sorted_dict\n",
    "\n",
    "    # Filter the dictionary (for k = 50)\n",
    "    filtered_dict = {x: y for x, y in sorted_dict.items() if y > k}\n",
    "    filtered_list = list(filtered_dict.keys())\n",
    "\n",
    "    # Creation of Feature Matrix\n",
    "    feature_matrix_spam = np.zeros((len(train_spam_df), len(filtered_list)))\n",
    "    # Settting the feature matrix for spam\n",
    "    for index in range(len(train_spam_df)):\n",
    "        for word in str(train_spam_df.iloc[index]['email_message']).split():\n",
    "            if word in filtered_dict:\n",
    "                feature_matrix_spam[index][filtered_list.index(word)] = 1\n",
    "    feature_matrix_ham = np.zeros((len(train_ham_df), len(filtered_list)))\n",
    "    # Setting the feature matrix for ham\n",
    "    for index in range(len(train_ham_df)):\n",
    "        for word in str(train_ham_df.iloc[index]['email_message']).split():\n",
    "            if word in filtered_dict:\n",
    "                feature_matrix_ham[index][filtered_list.index(word)] = 1\n",
    "\n",
    "    # Apply Laplace Smoothing\n",
    "    p_word_given_spam, p_word_given_ham = laplace_smoothing(feature_matrix_spam, feature_matrix_ham, 1, 2, filtered_list)\n",
    "\n",
    "    # Test the classifier\n",
    "    test_df['predicted'] = test_df['email_message'].apply(lambda x: classify(x, p_word_given_spam, p_word_given_ham, p_spam, p_ham, filtered_dict, filtered_list))\n",
    "\n",
    "    actual = test_df['category']\n",
    "    predicted = test_df['predicted']\n",
    "    current_recall = recall_score(actual, predicted)\n",
    "    print(f\"Recall Score for k = {k}: {current_recall}\")\n",
    "\n",
    "    # Check if current recall decreased from the last known recall score\n",
    "    if recall_scores != []:\n",
    "        if current_recall < recall_scores[-1]:\n",
    "            recall_scores.append(current_recall)\n",
    "            break\n",
    "    recall_scores.append(current_recall)\n",
    "\n",
    "    k += 1"
   ]
  }
 ],
 "metadata": {
  "kernelspec": {
   "display_name": "Python 3.11.0 64-bit",
   "language": "python",
   "name": "python3"
  },
  "language_info": {
   "codemirror_mode": {
    "name": "ipython",
    "version": 3
   },
   "file_extension": ".py",
   "mimetype": "text/x-python",
   "name": "python",
   "nbconvert_exporter": "python",
   "pygments_lexer": "ipython3",
   "version": "3.11.0"
  },
  "orig_nbformat": 4,
  "vscode": {
   "interpreter": {
    "hash": "bce94cf5ba4e91c139e25acaf699abf418036a78723bf02e000e119123230ea1"
   }
  }
 },
 "nbformat": 4,
 "nbformat_minor": 2
}
