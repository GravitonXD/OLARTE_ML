{
 "cells": [
  {
   "cell_type": "markdown",
   "metadata": {},
   "source": [
    "# <h1> CMSC 197 (Maching Learning) QUIZ 1 </h1>\n",
    "<br> Unit 1 : Introduction to Numerical Computing Using Python </br>\n",
    "<br> Submitted by: JOHN MARKTON M. OLARTE </br> \n",
    "<br> Student Number: 201904529 </br>\n",
    "<br> Submitted to: Ma'am ARA ABIGAIL E. AMBITA </br>\n"
   ]
  },
  {
   "cell_type": "code",
   "execution_count": 1,
   "metadata": {},
   "outputs": [],
   "source": [
    "import numpy as np"
   ]
  },
  {
   "cell_type": "markdown",
   "metadata": {},
   "source": [
    "# PART 1"
   ]
  },
  {
   "cell_type": "markdown",
   "metadata": {},
   "source": [
    "## <p style=\"color:#49be25\"> items 1-3 <p>\n",
    "1. Create 2 1D arrays, y_hat and y\n",
    "2. Initialize y_hat with 20 linearly spaced numbers between -1 and 1\n",
    "3. Initialize y with 20 linearly spaced numbers between 0 and 1"
   ]
  },
  {
   "cell_type": "markdown",
   "metadata": {},
   "source": [
    "<p style=\"color:#3E72E3\"> A: We can create the arrays using np.array(...) function, and since we are to initialize them with 20 linearly spaced numbers from a given (start_num, end_num) we can use np.linespace(...) function. </p>"
   ]
  },
  {
   "cell_type": "code",
   "execution_count": 2,
   "metadata": {},
   "outputs": [
    {
     "name": "stdout",
     "output_type": "stream",
     "text": [
      "y_hat array: [-1.         -0.89473684 -0.78947368 -0.68421053 -0.57894737 -0.47368421\n",
      " -0.36842105 -0.26315789 -0.15789474 -0.05263158  0.05263158  0.15789474\n",
      "  0.26315789  0.36842105  0.47368421  0.57894737  0.68421053  0.78947368\n",
      "  0.89473684  1.        ]\n"
     ]
    }
   ],
   "source": [
    "# Initialize y_hat with 20 linearly spaced numbers between -1 and 1\n",
    "y_hat = np.array(np.linspace(-1, 1, 20))\n",
    "\n",
    "# Prints the y_hat array\n",
    "print(f\"y_hat array: {y_hat}\")"
   ]
  },
  {
   "cell_type": "code",
   "execution_count": 3,
   "metadata": {},
   "outputs": [
    {
     "name": "stdout",
     "output_type": "stream",
     "text": [
      "y array: [0.         0.05263158 0.10526316 0.15789474 0.21052632 0.26315789\n",
      " 0.31578947 0.36842105 0.42105263 0.47368421 0.52631579 0.57894737\n",
      " 0.63157895 0.68421053 0.73684211 0.78947368 0.84210526 0.89473684\n",
      " 0.94736842 1.        ]\n"
     ]
    }
   ],
   "source": [
    "# Initialize y with 20 linearly spaced numbers between 0 and 1\n",
    "y = np.array(np.linspace(0, 1, 20))\n",
    "\n",
    "# Prints the y array\n",
    "print(f\"y array: {y}\")"
   ]
  },
  {
   "cell_type": "markdown",
   "metadata": {},
   "source": [
    "## <p style=\"color:#49be25\"> item 4 </p>\n",
    "4. Compute for the shape and dimension of y_hat and y."
   ]
  },
  {
   "cell_type": "markdown",
   "metadata": {},
   "source": [
    "<p style=\"color:#3E72E3\"> A: To compute for the shape of y_hat and y, we can use the shape attribute </p>"
   ]
  },
  {
   "cell_type": "code",
   "execution_count": 4,
   "metadata": {},
   "outputs": [
    {
     "name": "stdout",
     "output_type": "stream",
     "text": [
      "shape of y_hat: 20\n"
     ]
    }
   ],
   "source": [
    "shape_y_hat = y_hat.shape\n",
    "\n",
    "# Since y_hat is a 1D array, the shape will only have one element. Which is the number of elements in the array.\n",
    "print(f\"shape of y_hat: {shape_y_hat[0]}\")\n"
   ]
  },
  {
   "cell_type": "code",
   "execution_count": 5,
   "metadata": {},
   "outputs": [
    {
     "name": "stdout",
     "output_type": "stream",
     "text": [
      "shape of y: 20\n"
     ]
    }
   ],
   "source": [
    "y_shape = y.shape\n",
    "\n",
    "# Since y is a 1D array, the shape will only have one element. Which is the number of elements in the array.\n",
    "print(f\"shape of y: {y_shape[0]}\")"
   ]
  },
  {
   "cell_type": "markdown",
   "metadata": {},
   "source": [
    "<p style=\"color:#3E72E3\"> A: To compute for the dimension of y_hat and y, we can use the ndim attribute </p>"
   ]
  },
  {
   "cell_type": "code",
   "execution_count": 6,
   "metadata": {},
   "outputs": [
    {
     "name": "stdout",
     "output_type": "stream",
     "text": [
      "dimension of y_hat: 1\n"
     ]
    }
   ],
   "source": [
    "dim_y_hat = y_hat.ndim\n",
    "\n",
    "# Since y_hat is a 1D array, the dimension will be 1.\n",
    "print(f\"dimension of y_hat: {dim_y_hat}\")"
   ]
  },
  {
   "cell_type": "code",
   "execution_count": 7,
   "metadata": {},
   "outputs": [
    {
     "name": "stdout",
     "output_type": "stream",
     "text": [
      "dimension of y: 1\n"
     ]
    }
   ],
   "source": [
    "dim_y = y.ndim\n",
    "\n",
    "# Since y is a 1D array, the dimension will be 1.\n",
    "print(f\"dimension of y: {dim_y}\")"
   ]
  },
  {
   "cell_type": "markdown",
   "metadata": {},
   "source": [
    "## <p style=\"color:#49be25\"> items 5-6 </p>\n",
    "5. Create individual functions for each of the loss functions with y and y_hat as parameters\n",
    "6. Each function should return the loss value (L)"
   ]
  },
  {
   "cell_type": "markdown",
   "metadata": {},
   "source": [
    "### <p style=\"color:#134b5f\"> MEAN SQUARED ERROR (MSE) </p>\n",
    "\n"
   ]
  },
  {
   "cell_type": "code",
   "execution_count": 8,
   "metadata": {},
   "outputs": [
    {
     "name": "stdout",
     "output_type": "stream",
     "text": [
      "Mean Squared Error Loss Value (L) : 0.3421052631578948\n"
     ]
    }
   ],
   "source": [
    "def MSE(y_hat, y):\n",
    "    # Loss Value (L)\n",
    "    L = np.mean((y_hat - y)**2)\n",
    "    return L\n",
    "\n",
    "# Prints the MSE Loss Value for y_hat and y.\n",
    "print(f\"Mean Squared Error Loss Value (L) : {MSE(y_hat, y)}\")"
   ]
  },
  {
   "cell_type": "markdown",
   "metadata": {},
   "source": [
    "### <p style=\"color:#134b5f\"> MEAN ABSOLUTE ERROR (MAE) </p>"
   ]
  },
  {
   "cell_type": "code",
   "execution_count": 9,
   "metadata": {},
   "outputs": [
    {
     "name": "stdout",
     "output_type": "stream",
     "text": [
      "Mean Absolute Error Loss Value (L) : 0.4999999999999999\n"
     ]
    }
   ],
   "source": [
    "def MAE(y_hat, y):\n",
    "    # Loss Value (L)\n",
    "    L = np.mean(np.absolute(y_hat - y))\n",
    "    return L\n",
    "\n",
    "# Prints the MAE Loss Value for y_hat and y.\n",
    "print(f\"Mean Absolute Error Loss Value (L) : {MAE(y_hat, y)}\")"
   ]
  },
  {
   "cell_type": "markdown",
   "metadata": {},
   "source": [
    "### <p style=\"color:#134b5f\"> MEAN SQUARED LOGARITHMIC ERROR (MSLE) </p>"
   ]
  },
  {
   "cell_type": "code",
   "execution_count": 10,
   "metadata": {},
   "outputs": [
    {
     "name": "stdout",
     "output_type": "stream",
     "text": [
      "Mean Squared Logarithmic Error Loss Value (L) : Error, values contains negative variables which don't exist in log.\n"
     ]
    },
    {
     "name": "stderr",
     "output_type": "stream",
     "text": [
      "C:\\Users\\johnm\\AppData\\Local\\Temp\\ipykernel_15604\\436804316.py:3: RuntimeWarning: divide by zero encountered in log\n",
      "  L = np.mean((np.log(y_hat + 1) - np.log(y + 1))**2)\n"
     ]
    }
   ],
   "source": [
    "def MSLE(y_hat, y):\n",
    "    # Loss Value (L)\n",
    "    L = np.mean((np.log(y_hat + 1) - np.log(y + 1))**2)\n",
    "    \n",
    "    if L == np.inf:\n",
    "        return \"Error, values contains negative variables which don't exist in log.\"\n",
    "    # If there is no error, return the loss value.\n",
    "    return L\n",
    "\n",
    "# Prints the MSLE Loss Value for y_hat and y.\n",
    "print(f\"Mean Squared Logarithmic Error Loss Value (L) : {MSLE(y_hat, y)}\")"
   ]
  },
  {
   "cell_type": "markdown",
   "metadata": {},
   "source": [
    "### <p style=\"color:#134b5f\"> MEAN ABSOLUTE PERCENTAGE ERROR (MAPE) </p>"
   ]
  },
  {
   "cell_type": "code",
   "execution_count": 11,
   "metadata": {},
   "outputs": [
    {
     "name": "stdout",
     "output_type": "stream",
     "text": [
      "Mean Absolute Percentage Error Loss Value (L) : Error, values contains zero, which resulted in zero division error. \n"
     ]
    },
    {
     "name": "stderr",
     "output_type": "stream",
     "text": [
      "C:\\Users\\johnm\\AppData\\Local\\Temp\\ipykernel_15604\\4277310195.py:3: RuntimeWarning: divide by zero encountered in divide\n",
      "  L = np.mean(np.absolute((y_hat - y)/y))*100\n"
     ]
    }
   ],
   "source": [
    "def MAPE(y_hat, y):\n",
    "    # Loss Value (L)\n",
    "    L = np.mean(np.absolute((y_hat - y)/y))*100\n",
    "    \n",
    "    if L == np.inf:\n",
    "        return \"Error, values contains zero, which resulted in zero division error.\"\n",
    "    # If there is no error, return the loss value in percentage.\n",
    "    return L\n",
    "\n",
    "# Prints the MAPE Loss Value for y_hat and y.\n",
    "print(f\"Mean Absolute Percentage Error Loss Value (L) : {MAPE(y_hat, y)} {'%' if MAPE(y_hat, y) != 'Error, values contains zero, which resulted in zero division error.' else ''}\")"
   ]
  },
  {
   "cell_type": "markdown",
   "metadata": {},
   "source": [
    "# PART 2"
   ]
  },
  {
   "cell_type": "markdown",
   "metadata": {},
   "source": [
    "## <p style=\"color:#49be25\"> item 1 </p>\n",
    "Create a 1D array M with values from 1 to 16 using the arange function."
   ]
  },
  {
   "cell_type": "code",
   "execution_count": 12,
   "metadata": {},
   "outputs": [
    {
     "name": "stdout",
     "output_type": "stream",
     "text": [
      "M array: [ 1  2  3  4  5  6  7  8  9 10 11 12 13 14 15 16]\n"
     ]
    }
   ],
   "source": [
    "# Using Arange (Array Range) we can create a 1D array from 1 to n (not including n)\n",
    "M = np.arange(1, 17)\n",
    "print(f\"M array: {M}\")"
   ]
  },
  {
   "cell_type": "markdown",
   "metadata": {},
   "source": [
    "## <p style=\"color:#49be25\"> item 2 </p>\n",
    "Reshape M into 4x4 array and store it to N"
   ]
  },
  {
   "cell_type": "code",
   "execution_count": 13,
   "metadata": {},
   "outputs": [
    {
     "name": "stdout",
     "output_type": "stream",
     "text": [
      "N array (4x4): \n",
      "[[ 1  2  3  4]\n",
      " [ 5  6  7  8]\n",
      " [ 9 10 11 12]\n",
      " [13 14 15 16]]\n"
     ]
    }
   ],
   "source": [
    "# We can reshape an array using the reshape function.\n",
    "N = M.reshape(4, 4)\n",
    "print(f\"N array (4x4): \\n{N}\")"
   ]
  },
  {
   "cell_type": "markdown",
   "metadata": {},
   "source": [
    "## <p style=\"color:#49be25\"> item 3 </p>\n",
    "Get the 2nd row of N"
   ]
  },
  {
   "cell_type": "code",
   "execution_count": 14,
   "metadata": {},
   "outputs": [
    {
     "name": "stdout",
     "output_type": "stream",
     "text": [
      "2nd Row of Array [N]: [5 6 7 8]\n"
     ]
    }
   ],
   "source": [
    "# The second row of N is at index [1, :]\n",
    "print(f\"2nd Row of Array [N]: {N[1, :]}\")"
   ]
  },
  {
   "cell_type": "markdown",
   "metadata": {},
   "source": [
    "## <p style=\"color:#49be25\"> item 4 </p>\n",
    "\n",
    "Get the minimum values for each column of N"
   ]
  },
  {
   "cell_type": "code",
   "execution_count": 15,
   "metadata": {},
   "outputs": [
    {
     "name": "stdout",
     "output_type": "stream",
     "text": [
      "Minimum value of column 0: 1\n",
      "Minimum value of column 1: 2\n",
      "Minimum value of column 2: 3\n",
      "Minimum value of column 3: 4\n"
     ]
    }
   ],
   "source": [
    "# To get the minimum value of N, we can use the min function.\n",
    "# axis is set to 0, since we want to find the minimum value for each column.\n",
    "column_min = N.min(axis=0)\n",
    "\n",
    "# Print the minimum value of each column.\n",
    "for i in range(len(column_min)):\n",
    "    print(f\"Minimum value of column {i}: {column_min[i]}\")"
   ]
  },
  {
   "cell_type": "markdown",
   "metadata": {},
   "source": [
    "## <p style=\"color:#49be25\"> item 5 </p>\n",
    "Get the locations of the minimum values for each column of N"
   ]
  },
  {
   "cell_type": "code",
   "execution_count": 16,
   "metadata": {},
   "outputs": [
    {
     "name": "stdout",
     "output_type": "stream",
     "text": [
      "minimum value: 1 || location in arrray [N]: row[0] column[0]\n",
      "\n",
      "minimum value: 2 || location in arrray [N]: row[0] column[1]\n",
      "\n",
      "minimum value: 3 || location in arrray [N]: row[0] column[2]\n",
      "\n",
      "minimum value: 4 || location in arrray [N]: row[0] column[3]\n",
      "\n"
     ]
    }
   ],
   "source": [
    "# Print out the location of the minimum value in each column.\n",
    "for i in column_min:\n",
    "    location = np.where(N == i)\n",
    "    print(f\"minimum value: {i} || location in arrray [N]: row{location[0]} column{location[1]}\\n\")"
   ]
  },
  {
   "cell_type": "markdown",
   "metadata": {},
   "source": [
    "## <p style=\"color:#49be25\"> item 6 </p>\n",
    "Get the average of the whole matrix"
   ]
  },
  {
   "cell_type": "code",
   "execution_count": 17,
   "metadata": {},
   "outputs": [
    {
     "name": "stdout",
     "output_type": "stream",
     "text": [
      "The average of the whole matrix [N] is 8.5\n"
     ]
    }
   ],
   "source": [
    "# Use mean function to find the mean of the whole matrix (N).\n",
    "# Note that the mean of Matrix M and N are just the same.\n",
    "average_N = N.mean()\n",
    "print(f\"The average of the whole matrix [N] is {average_N}\")"
   ]
  },
  {
   "cell_type": "markdown",
   "metadata": {},
   "source": [
    "## <p style=\"color:#49be25\"> item 7 </p>\n",
    "Create a vector V with 4 elements, each element is 1"
   ]
  },
  {
   "cell_type": "code",
   "execution_count": 18,
   "metadata": {},
   "outputs": [
    {
     "name": "stdout",
     "output_type": "stream",
     "text": [
      "vector V: [1 1 1 1]\n"
     ]
    }
   ],
   "source": [
    "V = np.array([1, 1, 1, 1])\n",
    "print(f\"vector V: {V}\")"
   ]
  },
  {
   "cell_type": "markdown",
   "metadata": {},
   "source": [
    "## <p style=\"color:#49be25\"> item 8 </p>\n",
    "\n",
    "Take the dot product of N and V"
   ]
  },
  {
   "cell_type": "code",
   "execution_count": 19,
   "metadata": {},
   "outputs": [
    {
     "name": "stdout",
     "output_type": "stream",
     "text": [
      "Dot Product of matrix [N] and vector [V]: [10 26 42 58]\n"
     ]
    }
   ],
   "source": [
    "dot_res = np.dot(N, V)\n",
    "print(f\"Dot Product of matrix [N] and vector [V]: {dot_res}\")"
   ]
  }
 ],
 "metadata": {
  "kernelspec": {
   "display_name": "Python 3.10.7 64-bit",
   "language": "python",
   "name": "python3"
  },
  "language_info": {
   "codemirror_mode": {
    "name": "ipython",
    "version": 3
   },
   "file_extension": ".py",
   "mimetype": "text/x-python",
   "name": "python",
   "nbconvert_exporter": "python",
   "pygments_lexer": "ipython3",
   "version": "3.10.7"
  },
  "orig_nbformat": 4,
  "vscode": {
   "interpreter": {
    "hash": "1224d32f05aa8d9d17993b21a51be44b2d1966ef541559ad6beae9001f15c664"
   }
  }
 },
 "nbformat": 4,
 "nbformat_minor": 2
}
