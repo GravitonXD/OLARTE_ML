{
 "cells": [
  {
   "cell_type": "markdown",
   "metadata": {},
   "source": [
    "# CMSC 197 PROBLEM SET\n",
    "# IMPLEMENTING LINEAR REGRESSION WITH GRADIENT DESCENT AS OPTIMIZATION FUNCTION\n",
    "CREATED BY: JOHN MARKTON OLARTE"
   ]
  },
  {
   "cell_type": "code",
   "execution_count": 1,
   "metadata": {},
   "outputs": [],
   "source": [
    "# Import the necessary python packages\n",
    "import numpy as np\n",
    "import pandas as pd\n",
    "import matplotlib.pyplot as plt\n",
    "\n",
    "# NOTE: sklearn should only be used for the following:\n",
    "#     Standardization and Dividing the Data into Training and Testing Sets\n",
    "#     Checking MSE and r^2 values\n",
    "#     Lastly for comparison of implementation (from scratch) and the OLS results since sklearn uses least squares for linear regression.\n",
    "from sklearn import preprocessing\n",
    "from sklearn.model_selection import train_test_split\n",
    "from sklearn.metrics import r2_score, mean_squared_error\n",
    "from sklearn.linear_model import LinearRegression"
   ]
  },
  {
   "cell_type": "markdown",
   "metadata": {},
   "source": [
    "## DETAILS OF THIS PROBLEM SET\n",
    "Main Goal: Predict Sales from TV, Radio, and Newspaper Advertising Expenditures.\n",
    "Dataset: Advertising.csv\n",
    "Features (X): TV, Radio, and Newspaper\n",
    "Response (Y): Sales\n",
    "\n",
    "## TO DO\n",
    "Implement Linear Regression with Gradient Descent as Optimization Function:\n",
    "h0(x) = theta0 + theta1*x1 + theta2*x2 + ... + thetan*xn = theta^T * X"
   ]
  },
  {
   "cell_type": "markdown",
   "metadata": {},
   "source": [
    "## APPLICATION"
   ]
  },
  {
   "cell_type": "markdown",
   "metadata": {},
   "source": [
    "### STEP 1\n",
    "Load the dataset using pandas"
   ]
  },
  {
   "cell_type": "code",
   "execution_count": 2,
   "metadata": {},
   "outputs": [
    {
     "data": {
      "text/html": [
       "<div>\n",
       "<style scoped>\n",
       "    .dataframe tbody tr th:only-of-type {\n",
       "        vertical-align: middle;\n",
       "    }\n",
       "\n",
       "    .dataframe tbody tr th {\n",
       "        vertical-align: top;\n",
       "    }\n",
       "\n",
       "    .dataframe thead th {\n",
       "        text-align: right;\n",
       "    }\n",
       "</style>\n",
       "<table border=\"1\" class=\"dataframe\">\n",
       "  <thead>\n",
       "    <tr style=\"text-align: right;\">\n",
       "      <th></th>\n",
       "      <th>TV</th>\n",
       "      <th>Radio</th>\n",
       "      <th>Newspaper</th>\n",
       "      <th>Sales</th>\n",
       "    </tr>\n",
       "  </thead>\n",
       "  <tbody>\n",
       "    <tr>\n",
       "      <th>0</th>\n",
       "      <td>230.1</td>\n",
       "      <td>37.8</td>\n",
       "      <td>69.2</td>\n",
       "      <td>22.1</td>\n",
       "    </tr>\n",
       "    <tr>\n",
       "      <th>1</th>\n",
       "      <td>44.5</td>\n",
       "      <td>39.3</td>\n",
       "      <td>45.1</td>\n",
       "      <td>10.4</td>\n",
       "    </tr>\n",
       "    <tr>\n",
       "      <th>2</th>\n",
       "      <td>17.2</td>\n",
       "      <td>45.9</td>\n",
       "      <td>69.3</td>\n",
       "      <td>9.3</td>\n",
       "    </tr>\n",
       "    <tr>\n",
       "      <th>3</th>\n",
       "      <td>151.5</td>\n",
       "      <td>41.3</td>\n",
       "      <td>58.5</td>\n",
       "      <td>18.5</td>\n",
       "    </tr>\n",
       "    <tr>\n",
       "      <th>4</th>\n",
       "      <td>180.8</td>\n",
       "      <td>10.8</td>\n",
       "      <td>58.4</td>\n",
       "      <td>12.9</td>\n",
       "    </tr>\n",
       "    <tr>\n",
       "      <th>...</th>\n",
       "      <td>...</td>\n",
       "      <td>...</td>\n",
       "      <td>...</td>\n",
       "      <td>...</td>\n",
       "    </tr>\n",
       "    <tr>\n",
       "      <th>195</th>\n",
       "      <td>38.2</td>\n",
       "      <td>3.7</td>\n",
       "      <td>13.8</td>\n",
       "      <td>7.6</td>\n",
       "    </tr>\n",
       "    <tr>\n",
       "      <th>196</th>\n",
       "      <td>94.2</td>\n",
       "      <td>4.9</td>\n",
       "      <td>8.1</td>\n",
       "      <td>9.7</td>\n",
       "    </tr>\n",
       "    <tr>\n",
       "      <th>197</th>\n",
       "      <td>177.0</td>\n",
       "      <td>9.3</td>\n",
       "      <td>6.4</td>\n",
       "      <td>12.8</td>\n",
       "    </tr>\n",
       "    <tr>\n",
       "      <th>198</th>\n",
       "      <td>283.6</td>\n",
       "      <td>42.0</td>\n",
       "      <td>66.2</td>\n",
       "      <td>25.5</td>\n",
       "    </tr>\n",
       "    <tr>\n",
       "      <th>199</th>\n",
       "      <td>232.1</td>\n",
       "      <td>8.6</td>\n",
       "      <td>8.7</td>\n",
       "      <td>13.4</td>\n",
       "    </tr>\n",
       "  </tbody>\n",
       "</table>\n",
       "<p>200 rows × 4 columns</p>\n",
       "</div>"
      ],
      "text/plain": [
       "        TV  Radio  Newspaper  Sales\n",
       "0    230.1   37.8       69.2   22.1\n",
       "1     44.5   39.3       45.1   10.4\n",
       "2     17.2   45.9       69.3    9.3\n",
       "3    151.5   41.3       58.5   18.5\n",
       "4    180.8   10.8       58.4   12.9\n",
       "..     ...    ...        ...    ...\n",
       "195   38.2    3.7       13.8    7.6\n",
       "196   94.2    4.9        8.1    9.7\n",
       "197  177.0    9.3        6.4   12.8\n",
       "198  283.6   42.0       66.2   25.5\n",
       "199  232.1    8.6        8.7   13.4\n",
       "\n",
       "[200 rows x 4 columns]"
      ]
     },
     "execution_count": 2,
     "metadata": {},
     "output_type": "execute_result"
    }
   ],
   "source": [
    "# Load the data from Advertising.csv into a pandas dataframe\n",
    "df = pd.read_csv('Advertising.csv')\n",
    "\n",
    "# Since the first column is just the index, we can drop it\n",
    "df = df.drop('Unnamed: 0', axis=1)\n",
    "df"
   ]
  },
  {
   "cell_type": "markdown",
   "metadata": {},
   "source": [
    "Visualizations of the dataset"
   ]
  },
  {
   "cell_type": "code",
   "execution_count": 3,
   "metadata": {},
   "outputs": [
    {
     "name": "stderr",
     "output_type": "stream",
     "text": [
      "c:\\Users\\johnm\\AppData\\Local\\Programs\\Python\\Python310\\lib\\site-packages\\pandas\\plotting\\_matplotlib\\core.py:1070: UserWarning: No data for colormapping provided via 'c'. Parameters 'cmap' will be ignored\n",
      "  scatter = ax.scatter(\n"
     ]
    },
    {
     "data": {
      "text/plain": [
       "<AxesSubplot: xlabel='Newspaper', ylabel='Sales'>"
      ]
     },
     "execution_count": 3,
     "metadata": {},
     "output_type": "execute_result"
    },
    {
     "data": {
      "image/png": "[encoded data removed]",
      "text/plain": [
       "<Figure size 1600x800 with 3 Axes>"
      ]
     },
     "metadata": {},
     "output_type": "display_data"
    }
   ],
   "source": [
    "# Visualize the data side by side\n",
    "fig, axs = plt.subplots(1, 3, sharey=True)\n",
    "df.plot(kind='scatter', x='TV', y='Sales', ax=axs[0], figsize=(16, 8))\n",
    "df.plot(kind='scatter', x='Radio', y='Sales', ax=axs[1])\n",
    "df.plot(kind='scatter', x='Newspaper', y='Sales', ax=axs[2])"
   ]
  },
  {
   "cell_type": "code",
   "execution_count": 4,
   "metadata": {},
   "outputs": [
    {
     "data": {
      "text/html": [
       "<div>\n",
       "<style scoped>\n",
       "    .dataframe tbody tr th:only-of-type {\n",
       "        vertical-align: middle;\n",
       "    }\n",
       "\n",
       "    .dataframe tbody tr th {\n",
       "        vertical-align: top;\n",
       "    }\n",
       "\n",
       "    .dataframe thead th {\n",
       "        text-align: right;\n",
       "    }\n",
       "</style>\n",
       "<table border=\"1\" class=\"dataframe\">\n",
       "  <thead>\n",
       "    <tr style=\"text-align: right;\">\n",
       "      <th></th>\n",
       "      <th>TV</th>\n",
       "      <th>Radio</th>\n",
       "      <th>Newspaper</th>\n",
       "      <th>Sales</th>\n",
       "    </tr>\n",
       "  </thead>\n",
       "  <tbody>\n",
       "    <tr>\n",
       "      <th>count</th>\n",
       "      <td>200.000000</td>\n",
       "      <td>200.000000</td>\n",
       "      <td>200.000000</td>\n",
       "      <td>200.000000</td>\n",
       "    </tr>\n",
       "    <tr>\n",
       "      <th>mean</th>\n",
       "      <td>147.042500</td>\n",
       "      <td>23.264000</td>\n",
       "      <td>30.554000</td>\n",
       "      <td>14.022500</td>\n",
       "    </tr>\n",
       "    <tr>\n",
       "      <th>std</th>\n",
       "      <td>85.854236</td>\n",
       "      <td>14.846809</td>\n",
       "      <td>21.778621</td>\n",
       "      <td>5.217457</td>\n",
       "    </tr>\n",
       "    <tr>\n",
       "      <th>min</th>\n",
       "      <td>0.700000</td>\n",
       "      <td>0.000000</td>\n",
       "      <td>0.300000</td>\n",
       "      <td>1.600000</td>\n",
       "    </tr>\n",
       "    <tr>\n",
       "      <th>25%</th>\n",
       "      <td>74.375000</td>\n",
       "      <td>9.975000</td>\n",
       "      <td>12.750000</td>\n",
       "      <td>10.375000</td>\n",
       "    </tr>\n",
       "    <tr>\n",
       "      <th>50%</th>\n",
       "      <td>149.750000</td>\n",
       "      <td>22.900000</td>\n",
       "      <td>25.750000</td>\n",
       "      <td>12.900000</td>\n",
       "    </tr>\n",
       "    <tr>\n",
       "      <th>75%</th>\n",
       "      <td>218.825000</td>\n",
       "      <td>36.525000</td>\n",
       "      <td>45.100000</td>\n",
       "      <td>17.400000</td>\n",
       "    </tr>\n",
       "    <tr>\n",
       "      <th>max</th>\n",
       "      <td>296.400000</td>\n",
       "      <td>49.600000</td>\n",
       "      <td>114.000000</td>\n",
       "      <td>27.000000</td>\n",
       "    </tr>\n",
       "  </tbody>\n",
       "</table>\n",
       "</div>"
      ],
      "text/plain": [
       "               TV       Radio   Newspaper       Sales\n",
       "count  200.000000  200.000000  200.000000  200.000000\n",
       "mean   147.042500   23.264000   30.554000   14.022500\n",
       "std     85.854236   14.846809   21.778621    5.217457\n",
       "min      0.700000    0.000000    0.300000    1.600000\n",
       "25%     74.375000    9.975000   12.750000   10.375000\n",
       "50%    149.750000   22.900000   25.750000   12.900000\n",
       "75%    218.825000   36.525000   45.100000   17.400000\n",
       "max    296.400000   49.600000  114.000000   27.000000"
      ]
     },
     "execution_count": 4,
     "metadata": {},
     "output_type": "execute_result"
    }
   ],
   "source": [
    "# Quantitative Analysis\n",
    "df.describe()"
   ]
  },
  {
   "cell_type": "markdown",
   "metadata": {},
   "source": [
    "### STEP 2\n",
    "Standardize each column of the dataset\n",
    "\n",
    "In this part I will show how can we do it manually and using sklearn"
   ]
  },
  {
   "cell_type": "code",
   "execution_count": 5,
   "metadata": {},
   "outputs": [
    {
     "data": {
      "text/html": [
       "<div>\n",
       "<style scoped>\n",
       "    .dataframe tbody tr th:only-of-type {\n",
       "        vertical-align: middle;\n",
       "    }\n",
       "\n",
       "    .dataframe tbody tr th {\n",
       "        vertical-align: top;\n",
       "    }\n",
       "\n",
       "    .dataframe thead th {\n",
       "        text-align: right;\n",
       "    }\n",
       "</style>\n",
       "<table border=\"1\" class=\"dataframe\">\n",
       "  <thead>\n",
       "    <tr style=\"text-align: right;\">\n",
       "      <th></th>\n",
       "      <th>TV</th>\n",
       "      <th>Radio</th>\n",
       "      <th>Newspaper</th>\n",
       "      <th>Sales</th>\n",
       "    </tr>\n",
       "  </thead>\n",
       "  <tbody>\n",
       "    <tr>\n",
       "      <th>0</th>\n",
       "      <td>0.967425</td>\n",
       "      <td>0.979066</td>\n",
       "      <td>1.774493</td>\n",
       "      <td>1.548168</td>\n",
       "    </tr>\n",
       "    <tr>\n",
       "      <th>1</th>\n",
       "      <td>-1.194379</td>\n",
       "      <td>1.080097</td>\n",
       "      <td>0.667903</td>\n",
       "      <td>-0.694304</td>\n",
       "    </tr>\n",
       "    <tr>\n",
       "      <th>2</th>\n",
       "      <td>-1.512360</td>\n",
       "      <td>1.524637</td>\n",
       "      <td>1.779084</td>\n",
       "      <td>-0.905135</td>\n",
       "    </tr>\n",
       "    <tr>\n",
       "      <th>3</th>\n",
       "      <td>0.051919</td>\n",
       "      <td>1.214806</td>\n",
       "      <td>1.283185</td>\n",
       "      <td>0.858177</td>\n",
       "    </tr>\n",
       "    <tr>\n",
       "      <th>4</th>\n",
       "      <td>0.393196</td>\n",
       "      <td>-0.839507</td>\n",
       "      <td>1.278593</td>\n",
       "      <td>-0.215143</td>\n",
       "    </tr>\n",
       "    <tr>\n",
       "      <th>...</th>\n",
       "      <td>...</td>\n",
       "      <td>...</td>\n",
       "      <td>...</td>\n",
       "      <td>...</td>\n",
       "    </tr>\n",
       "    <tr>\n",
       "      <th>195</th>\n",
       "      <td>-1.267759</td>\n",
       "      <td>-1.317724</td>\n",
       "      <td>-0.769287</td>\n",
       "      <td>-1.230964</td>\n",
       "    </tr>\n",
       "    <tr>\n",
       "      <th>196</th>\n",
       "      <td>-0.615491</td>\n",
       "      <td>-1.236899</td>\n",
       "      <td>-1.031011</td>\n",
       "      <td>-0.828469</td>\n",
       "    </tr>\n",
       "    <tr>\n",
       "      <th>197</th>\n",
       "      <td>0.348934</td>\n",
       "      <td>-0.940539</td>\n",
       "      <td>-1.109069</td>\n",
       "      <td>-0.234310</td>\n",
       "    </tr>\n",
       "    <tr>\n",
       "      <th>198</th>\n",
       "      <td>1.590574</td>\n",
       "      <td>1.261955</td>\n",
       "      <td>1.636743</td>\n",
       "      <td>2.199827</td>\n",
       "    </tr>\n",
       "    <tr>\n",
       "      <th>199</th>\n",
       "      <td>0.990720</td>\n",
       "      <td>-0.987687</td>\n",
       "      <td>-1.003461</td>\n",
       "      <td>-0.119311</td>\n",
       "    </tr>\n",
       "  </tbody>\n",
       "</table>\n",
       "<p>200 rows × 4 columns</p>\n",
       "</div>"
      ],
      "text/plain": [
       "           TV     Radio  Newspaper     Sales\n",
       "0    0.967425  0.979066   1.774493  1.548168\n",
       "1   -1.194379  1.080097   0.667903 -0.694304\n",
       "2   -1.512360  1.524637   1.779084 -0.905135\n",
       "3    0.051919  1.214806   1.283185  0.858177\n",
       "4    0.393196 -0.839507   1.278593 -0.215143\n",
       "..        ...       ...        ...       ...\n",
       "195 -1.267759 -1.317724  -0.769287 -1.230964\n",
       "196 -0.615491 -1.236899  -1.031011 -0.828469\n",
       "197  0.348934 -0.940539  -1.109069 -0.234310\n",
       "198  1.590574  1.261955   1.636743  2.199827\n",
       "199  0.990720 -0.987687  -1.003461 -0.119311\n",
       "\n",
       "[200 rows x 4 columns]"
      ]
     },
     "execution_count": 5,
     "metadata": {},
     "output_type": "execute_result"
    }
   ],
   "source": [
    "# MANUAL STANDARDIZATION\n",
    "\n",
    "# First we create a new dataframe that will hold the standardized values\n",
    "df_standardized_manual = df.copy()\n",
    "\n",
    "# Then we will change the values of the new dataframe to the standardized values, based on the given formula\n",
    "\n",
    "# TV\n",
    "TV_mean = df_standardized_manual['TV'].mean()\n",
    "TV_std = df_standardized_manual['TV'].std()\n",
    "df_standardized_manual['TV'] = (df_standardized_manual['TV'] - TV_mean) / TV_std\n",
    "\n",
    "# Radio\n",
    "radio_mean = df_standardized_manual['Radio'].mean()\n",
    "radio_std = df_standardized_manual['Radio'].std()\n",
    "df_standardized_manual['Radio'] = (df_standardized_manual['Radio'] - radio_mean) / radio_std\n",
    "\n",
    "# Newspaper\n",
    "newspaper_mean = df_standardized_manual['Newspaper'].mean()\n",
    "newspaper_std = df_standardized_manual['Newspaper'].std()\n",
    "df_standardized_manual['Newspaper'] = (df_standardized_manual['Newspaper'] - newspaper_mean) / newspaper_std\n",
    "\n",
    "# Sales\n",
    "sales_mean = df_standardized_manual['Sales'].mean()\n",
    "sales_std = df_standardized_manual['Sales'].std()\n",
    "df_standardized_manual['Sales'] = (df_standardized_manual['Sales'] - sales_mean) / sales_std\n",
    "\n",
    "df_standardized_manual"
   ]
  },
  {
   "cell_type": "code",
   "execution_count": 6,
   "metadata": {},
   "outputs": [
    {
     "data": {
      "text/html": [
       "<div>\n",
       "<style scoped>\n",
       "    .dataframe tbody tr th:only-of-type {\n",
       "        vertical-align: middle;\n",
       "    }\n",
       "\n",
       "    .dataframe tbody tr th {\n",
       "        vertical-align: top;\n",
       "    }\n",
       "\n",
       "    .dataframe thead th {\n",
       "        text-align: right;\n",
       "    }\n",
       "</style>\n",
       "<table border=\"1\" class=\"dataframe\">\n",
       "  <thead>\n",
       "    <tr style=\"text-align: right;\">\n",
       "      <th></th>\n",
       "      <th>TV</th>\n",
       "      <th>Radio</th>\n",
       "      <th>Newspaper</th>\n",
       "      <th>Sales</th>\n",
       "    </tr>\n",
       "  </thead>\n",
       "  <tbody>\n",
       "    <tr>\n",
       "      <th>0</th>\n",
       "      <td>0.969852</td>\n",
       "      <td>0.981522</td>\n",
       "      <td>1.778945</td>\n",
       "      <td>1.552053</td>\n",
       "    </tr>\n",
       "    <tr>\n",
       "      <th>1</th>\n",
       "      <td>-1.197376</td>\n",
       "      <td>1.082808</td>\n",
       "      <td>0.669579</td>\n",
       "      <td>-0.696046</td>\n",
       "    </tr>\n",
       "    <tr>\n",
       "      <th>2</th>\n",
       "      <td>-1.516155</td>\n",
       "      <td>1.528463</td>\n",
       "      <td>1.783549</td>\n",
       "      <td>-0.907406</td>\n",
       "    </tr>\n",
       "    <tr>\n",
       "      <th>3</th>\n",
       "      <td>0.052050</td>\n",
       "      <td>1.217855</td>\n",
       "      <td>1.286405</td>\n",
       "      <td>0.860330</td>\n",
       "    </tr>\n",
       "    <tr>\n",
       "      <th>4</th>\n",
       "      <td>0.394182</td>\n",
       "      <td>-0.841614</td>\n",
       "      <td>1.281802</td>\n",
       "      <td>-0.215683</td>\n",
       "    </tr>\n",
       "    <tr>\n",
       "      <th>...</th>\n",
       "      <td>...</td>\n",
       "      <td>...</td>\n",
       "      <td>...</td>\n",
       "      <td>...</td>\n",
       "    </tr>\n",
       "    <tr>\n",
       "      <th>195</th>\n",
       "      <td>-1.270941</td>\n",
       "      <td>-1.321031</td>\n",
       "      <td>-0.771217</td>\n",
       "      <td>-1.234053</td>\n",
       "    </tr>\n",
       "    <tr>\n",
       "      <th>196</th>\n",
       "      <td>-0.617035</td>\n",
       "      <td>-1.240003</td>\n",
       "      <td>-1.033598</td>\n",
       "      <td>-0.830548</td>\n",
       "    </tr>\n",
       "    <tr>\n",
       "      <th>197</th>\n",
       "      <td>0.349810</td>\n",
       "      <td>-0.942899</td>\n",
       "      <td>-1.111852</td>\n",
       "      <td>-0.234898</td>\n",
       "    </tr>\n",
       "    <tr>\n",
       "      <th>198</th>\n",
       "      <td>1.594565</td>\n",
       "      <td>1.265121</td>\n",
       "      <td>1.640850</td>\n",
       "      <td>2.205347</td>\n",
       "    </tr>\n",
       "    <tr>\n",
       "      <th>199</th>\n",
       "      <td>0.993206</td>\n",
       "      <td>-0.990165</td>\n",
       "      <td>-1.005979</td>\n",
       "      <td>-0.119610</td>\n",
       "    </tr>\n",
       "  </tbody>\n",
       "</table>\n",
       "<p>200 rows × 4 columns</p>\n",
       "</div>"
      ],
      "text/plain": [
       "           TV     Radio  Newspaper     Sales\n",
       "0    0.969852  0.981522   1.778945  1.552053\n",
       "1   -1.197376  1.082808   0.669579 -0.696046\n",
       "2   -1.516155  1.528463   1.783549 -0.907406\n",
       "3    0.052050  1.217855   1.286405  0.860330\n",
       "4    0.394182 -0.841614   1.281802 -0.215683\n",
       "..        ...       ...        ...       ...\n",
       "195 -1.270941 -1.321031  -0.771217 -1.234053\n",
       "196 -0.617035 -1.240003  -1.033598 -0.830548\n",
       "197  0.349810 -0.942899  -1.111852 -0.234898\n",
       "198  1.594565  1.265121   1.640850  2.205347\n",
       "199  0.993206 -0.990165  -1.005979 -0.119610\n",
       "\n",
       "[200 rows x 4 columns]"
      ]
     },
     "execution_count": 6,
     "metadata": {},
     "output_type": "execute_result"
    }
   ],
   "source": [
    "# USING SKLEARN\n",
    "# In this process, we will be using the preprocessing.scale function from sklearn\n",
    "df_standardized_sklearn = preprocessing.scale(df)\n",
    "\n",
    "# Convert the standardized data into a dataframe\n",
    "df_standardized_sklearn = pd.DataFrame(df_standardized_sklearn, columns=df.columns)\n",
    "df_standardized_sklearn"
   ]
  },
  {
   "cell_type": "code",
   "execution_count": 7,
   "metadata": {},
   "outputs": [
    {
     "data": {
      "text/html": [
       "<div>\n",
       "<style scoped>\n",
       "    .dataframe tbody tr th:only-of-type {\n",
       "        vertical-align: middle;\n",
       "    }\n",
       "\n",
       "    .dataframe tbody tr th {\n",
       "        vertical-align: top;\n",
       "    }\n",
       "\n",
       "    .dataframe thead th {\n",
       "        text-align: right;\n",
       "    }\n",
       "</style>\n",
       "<table border=\"1\" class=\"dataframe\">\n",
       "  <thead>\n",
       "    <tr style=\"text-align: right;\">\n",
       "      <th></th>\n",
       "      <th>TV</th>\n",
       "      <th>Radio</th>\n",
       "      <th>Newspaper</th>\n",
       "      <th>Sales</th>\n",
       "    </tr>\n",
       "  </thead>\n",
       "  <tbody>\n",
       "    <tr>\n",
       "      <th>0</th>\n",
       "      <td>-0.002428</td>\n",
       "      <td>-0.002457</td>\n",
       "      <td>-0.004453</td>\n",
       "      <td>-0.003885</td>\n",
       "    </tr>\n",
       "    <tr>\n",
       "      <th>1</th>\n",
       "      <td>0.002997</td>\n",
       "      <td>-0.002710</td>\n",
       "      <td>-0.001676</td>\n",
       "      <td>0.001742</td>\n",
       "    </tr>\n",
       "    <tr>\n",
       "      <th>2</th>\n",
       "      <td>0.003795</td>\n",
       "      <td>-0.003826</td>\n",
       "      <td>-0.004464</td>\n",
       "      <td>0.002271</td>\n",
       "    </tr>\n",
       "    <tr>\n",
       "      <th>3</th>\n",
       "      <td>-0.000130</td>\n",
       "      <td>-0.003048</td>\n",
       "      <td>-0.003220</td>\n",
       "      <td>-0.002154</td>\n",
       "    </tr>\n",
       "    <tr>\n",
       "      <th>4</th>\n",
       "      <td>-0.000987</td>\n",
       "      <td>0.002107</td>\n",
       "      <td>-0.003209</td>\n",
       "      <td>0.000540</td>\n",
       "    </tr>\n",
       "    <tr>\n",
       "      <th>...</th>\n",
       "      <td>...</td>\n",
       "      <td>...</td>\n",
       "      <td>...</td>\n",
       "      <td>...</td>\n",
       "    </tr>\n",
       "    <tr>\n",
       "      <th>195</th>\n",
       "      <td>0.003181</td>\n",
       "      <td>0.003307</td>\n",
       "      <td>0.001930</td>\n",
       "      <td>0.003089</td>\n",
       "    </tr>\n",
       "    <tr>\n",
       "      <th>196</th>\n",
       "      <td>0.001545</td>\n",
       "      <td>0.003104</td>\n",
       "      <td>0.002587</td>\n",
       "      <td>0.002079</td>\n",
       "    </tr>\n",
       "    <tr>\n",
       "      <th>197</th>\n",
       "      <td>-0.000876</td>\n",
       "      <td>0.002360</td>\n",
       "      <td>0.002783</td>\n",
       "      <td>0.000588</td>\n",
       "    </tr>\n",
       "    <tr>\n",
       "      <th>198</th>\n",
       "      <td>-0.003991</td>\n",
       "      <td>-0.003167</td>\n",
       "      <td>-0.004107</td>\n",
       "      <td>-0.005520</td>\n",
       "    </tr>\n",
       "    <tr>\n",
       "      <th>199</th>\n",
       "      <td>-0.002486</td>\n",
       "      <td>0.002479</td>\n",
       "      <td>0.002518</td>\n",
       "      <td>0.000299</td>\n",
       "    </tr>\n",
       "  </tbody>\n",
       "</table>\n",
       "<p>200 rows × 4 columns</p>\n",
       "</div>"
      ],
      "text/plain": [
       "           TV     Radio  Newspaper     Sales\n",
       "0   -0.002428 -0.002457  -0.004453 -0.003885\n",
       "1    0.002997 -0.002710  -0.001676  0.001742\n",
       "2    0.003795 -0.003826  -0.004464  0.002271\n",
       "3   -0.000130 -0.003048  -0.003220 -0.002154\n",
       "4   -0.000987  0.002107  -0.003209  0.000540\n",
       "..        ...       ...        ...       ...\n",
       "195  0.003181  0.003307   0.001930  0.003089\n",
       "196  0.001545  0.003104   0.002587  0.002079\n",
       "197 -0.000876  0.002360   0.002783  0.000588\n",
       "198 -0.003991 -0.003167  -0.004107 -0.005520\n",
       "199 -0.002486  0.002479   0.002518  0.000299\n",
       "\n",
       "[200 rows x 4 columns]"
      ]
     },
     "execution_count": 7,
     "metadata": {},
     "output_type": "execute_result"
    }
   ],
   "source": [
    "# FOR CHECKING\n",
    "# Just to check if the manual standardization and the sklearn standardization are the same\n",
    "#  We can do this by subtracting the two dataframes\n",
    "df_standardized_manual - df_standardized_sklearn"
   ]
  },
  {
   "cell_type": "markdown",
   "metadata": {},
   "source": [
    "From the above results we can see that our manual standardization is almost the same as the one from sklearn, the slight difference might be due to the small difference in the mean and standard deviation of the dataset using the two methods."
   ]
  },
  {
   "cell_type": "code",
   "execution_count": 8,
   "metadata": {},
   "outputs": [
    {
     "data": {
      "text/html": [
       "<div>\n",
       "<style scoped>\n",
       "    .dataframe tbody tr th:only-of-type {\n",
       "        vertical-align: middle;\n",
       "    }\n",
       "\n",
       "    .dataframe tbody tr th {\n",
       "        vertical-align: top;\n",
       "    }\n",
       "\n",
       "    .dataframe thead th {\n",
       "        text-align: right;\n",
       "    }\n",
       "</style>\n",
       "<table border=\"1\" class=\"dataframe\">\n",
       "  <thead>\n",
       "    <tr style=\"text-align: right;\">\n",
       "      <th></th>\n",
       "      <th>TV</th>\n",
       "      <th>Radio</th>\n",
       "      <th>Newspaper</th>\n",
       "      <th>Sales</th>\n",
       "    </tr>\n",
       "  </thead>\n",
       "  <tbody>\n",
       "    <tr>\n",
       "      <th>0</th>\n",
       "      <td>0.969852</td>\n",
       "      <td>0.981522</td>\n",
       "      <td>1.778945</td>\n",
       "      <td>1.552053</td>\n",
       "    </tr>\n",
       "    <tr>\n",
       "      <th>1</th>\n",
       "      <td>-1.197376</td>\n",
       "      <td>1.082808</td>\n",
       "      <td>0.669579</td>\n",
       "      <td>-0.696046</td>\n",
       "    </tr>\n",
       "    <tr>\n",
       "      <th>2</th>\n",
       "      <td>-1.516155</td>\n",
       "      <td>1.528463</td>\n",
       "      <td>1.783549</td>\n",
       "      <td>-0.907406</td>\n",
       "    </tr>\n",
       "    <tr>\n",
       "      <th>3</th>\n",
       "      <td>0.052050</td>\n",
       "      <td>1.217855</td>\n",
       "      <td>1.286405</td>\n",
       "      <td>0.860330</td>\n",
       "    </tr>\n",
       "    <tr>\n",
       "      <th>4</th>\n",
       "      <td>0.394182</td>\n",
       "      <td>-0.841614</td>\n",
       "      <td>1.281802</td>\n",
       "      <td>-0.215683</td>\n",
       "    </tr>\n",
       "    <tr>\n",
       "      <th>...</th>\n",
       "      <td>...</td>\n",
       "      <td>...</td>\n",
       "      <td>...</td>\n",
       "      <td>...</td>\n",
       "    </tr>\n",
       "    <tr>\n",
       "      <th>195</th>\n",
       "      <td>-1.270941</td>\n",
       "      <td>-1.321031</td>\n",
       "      <td>-0.771217</td>\n",
       "      <td>-1.234053</td>\n",
       "    </tr>\n",
       "    <tr>\n",
       "      <th>196</th>\n",
       "      <td>-0.617035</td>\n",
       "      <td>-1.240003</td>\n",
       "      <td>-1.033598</td>\n",
       "      <td>-0.830548</td>\n",
       "    </tr>\n",
       "    <tr>\n",
       "      <th>197</th>\n",
       "      <td>0.349810</td>\n",
       "      <td>-0.942899</td>\n",
       "      <td>-1.111852</td>\n",
       "      <td>-0.234898</td>\n",
       "    </tr>\n",
       "    <tr>\n",
       "      <th>198</th>\n",
       "      <td>1.594565</td>\n",
       "      <td>1.265121</td>\n",
       "      <td>1.640850</td>\n",
       "      <td>2.205347</td>\n",
       "    </tr>\n",
       "    <tr>\n",
       "      <th>199</th>\n",
       "      <td>0.993206</td>\n",
       "      <td>-0.990165</td>\n",
       "      <td>-1.005979</td>\n",
       "      <td>-0.119610</td>\n",
       "    </tr>\n",
       "  </tbody>\n",
       "</table>\n",
       "<p>200 rows × 4 columns</p>\n",
       "</div>"
      ],
      "text/plain": [
       "           TV     Radio  Newspaper     Sales\n",
       "0    0.969852  0.981522   1.778945  1.552053\n",
       "1   -1.197376  1.082808   0.669579 -0.696046\n",
       "2   -1.516155  1.528463   1.783549 -0.907406\n",
       "3    0.052050  1.217855   1.286405  0.860330\n",
       "4    0.394182 -0.841614   1.281802 -0.215683\n",
       "..        ...       ...        ...       ...\n",
       "195 -1.270941 -1.321031  -0.771217 -1.234053\n",
       "196 -0.617035 -1.240003  -1.033598 -0.830548\n",
       "197  0.349810 -0.942899  -1.111852 -0.234898\n",
       "198  1.594565  1.265121   1.640850  2.205347\n",
       "199  0.993206 -0.990165  -1.005979 -0.119610\n",
       "\n",
       "[200 rows x 4 columns]"
      ]
     },
     "execution_count": 8,
     "metadata": {},
     "output_type": "execute_result"
    }
   ],
   "source": [
    "# Moving forward, we will be using the standardized data from sklearn\n",
    "df_standardized = df_standardized_sklearn\n",
    "df_standardized"
   ]
  },
  {
   "cell_type": "markdown",
   "metadata": {},
   "source": [
    "### STEP 3\n",
    "Add a new column to the dataset with a value of 1 for each row"
   ]
  },
  {
   "cell_type": "code",
   "execution_count": 9,
   "metadata": {},
   "outputs": [
    {
     "data": {
      "text/html": [
       "<div>\n",
       "<style scoped>\n",
       "    .dataframe tbody tr th:only-of-type {\n",
       "        vertical-align: middle;\n",
       "    }\n",
       "\n",
       "    .dataframe tbody tr th {\n",
       "        vertical-align: top;\n",
       "    }\n",
       "\n",
       "    .dataframe thead th {\n",
       "        text-align: right;\n",
       "    }\n",
       "</style>\n",
       "<table border=\"1\" class=\"dataframe\">\n",
       "  <thead>\n",
       "    <tr style=\"text-align: right;\">\n",
       "      <th></th>\n",
       "      <th>all_ones</th>\n",
       "      <th>TV</th>\n",
       "      <th>Radio</th>\n",
       "      <th>Newspaper</th>\n",
       "      <th>Sales</th>\n",
       "    </tr>\n",
       "  </thead>\n",
       "  <tbody>\n",
       "    <tr>\n",
       "      <th>0</th>\n",
       "      <td>1</td>\n",
       "      <td>0.969852</td>\n",
       "      <td>0.981522</td>\n",
       "      <td>1.778945</td>\n",
       "      <td>1.552053</td>\n",
       "    </tr>\n",
       "    <tr>\n",
       "      <th>1</th>\n",
       "      <td>1</td>\n",
       "      <td>-1.197376</td>\n",
       "      <td>1.082808</td>\n",
       "      <td>0.669579</td>\n",
       "      <td>-0.696046</td>\n",
       "    </tr>\n",
       "    <tr>\n",
       "      <th>2</th>\n",
       "      <td>1</td>\n",
       "      <td>-1.516155</td>\n",
       "      <td>1.528463</td>\n",
       "      <td>1.783549</td>\n",
       "      <td>-0.907406</td>\n",
       "    </tr>\n",
       "    <tr>\n",
       "      <th>3</th>\n",
       "      <td>1</td>\n",
       "      <td>0.052050</td>\n",
       "      <td>1.217855</td>\n",
       "      <td>1.286405</td>\n",
       "      <td>0.860330</td>\n",
       "    </tr>\n",
       "    <tr>\n",
       "      <th>4</th>\n",
       "      <td>1</td>\n",
       "      <td>0.394182</td>\n",
       "      <td>-0.841614</td>\n",
       "      <td>1.281802</td>\n",
       "      <td>-0.215683</td>\n",
       "    </tr>\n",
       "    <tr>\n",
       "      <th>...</th>\n",
       "      <td>...</td>\n",
       "      <td>...</td>\n",
       "      <td>...</td>\n",
       "      <td>...</td>\n",
       "      <td>...</td>\n",
       "    </tr>\n",
       "    <tr>\n",
       "      <th>195</th>\n",
       "      <td>1</td>\n",
       "      <td>-1.270941</td>\n",
       "      <td>-1.321031</td>\n",
       "      <td>-0.771217</td>\n",
       "      <td>-1.234053</td>\n",
       "    </tr>\n",
       "    <tr>\n",
       "      <th>196</th>\n",
       "      <td>1</td>\n",
       "      <td>-0.617035</td>\n",
       "      <td>-1.240003</td>\n",
       "      <td>-1.033598</td>\n",
       "      <td>-0.830548</td>\n",
       "    </tr>\n",
       "    <tr>\n",
       "      <th>197</th>\n",
       "      <td>1</td>\n",
       "      <td>0.349810</td>\n",
       "      <td>-0.942899</td>\n",
       "      <td>-1.111852</td>\n",
       "      <td>-0.234898</td>\n",
       "    </tr>\n",
       "    <tr>\n",
       "      <th>198</th>\n",
       "      <td>1</td>\n",
       "      <td>1.594565</td>\n",
       "      <td>1.265121</td>\n",
       "      <td>1.640850</td>\n",
       "      <td>2.205347</td>\n",
       "    </tr>\n",
       "    <tr>\n",
       "      <th>199</th>\n",
       "      <td>1</td>\n",
       "      <td>0.993206</td>\n",
       "      <td>-0.990165</td>\n",
       "      <td>-1.005979</td>\n",
       "      <td>-0.119610</td>\n",
       "    </tr>\n",
       "  </tbody>\n",
       "</table>\n",
       "<p>200 rows × 5 columns</p>\n",
       "</div>"
      ],
      "text/plain": [
       "     all_ones        TV     Radio  Newspaper     Sales\n",
       "0           1  0.969852  0.981522   1.778945  1.552053\n",
       "1           1 -1.197376  1.082808   0.669579 -0.696046\n",
       "2           1 -1.516155  1.528463   1.783549 -0.907406\n",
       "3           1  0.052050  1.217855   1.286405  0.860330\n",
       "4           1  0.394182 -0.841614   1.281802 -0.215683\n",
       "..        ...       ...       ...        ...       ...\n",
       "195         1 -1.270941 -1.321031  -0.771217 -1.234053\n",
       "196         1 -0.617035 -1.240003  -1.033598 -0.830548\n",
       "197         1  0.349810 -0.942899  -1.111852 -0.234898\n",
       "198         1  1.594565  1.265121   1.640850  2.205347\n",
       "199         1  0.993206 -0.990165  -1.005979 -0.119610\n",
       "\n",
       "[200 rows x 5 columns]"
      ]
     },
     "execution_count": 9,
     "metadata": {},
     "output_type": "execute_result"
    }
   ],
   "source": [
    "# We can do this by using the insert function from pandas\n",
    "df_standardized.insert(0, 'all_ones', 1)\n",
    "df_standardized"
   ]
  },
  {
   "cell_type": "markdown",
   "metadata": {},
   "source": [
    "### STEP 4\n",
    "Divide the dataset into training and testing sets"
   ]
  },
  {
   "cell_type": "code",
   "execution_count": 10,
   "metadata": {},
   "outputs": [],
   "source": [
    "# Feature Selection: TV, Radio, Newspaper, and all_ones\n",
    "features = df_standardized[['all_ones', 'TV', 'Radio', 'Newspaper']]\n",
    "# Select the Sales column as the target (response) variable\n",
    "response = df_standardized['Sales']\n",
    "\n",
    "#  We will be using 85% of the data for training and 15% for testing\n",
    "X_train, X_test, y_train, y_test = train_test_split(features, response, train_size=0.85, test_size=0.15)"
   ]
  },
  {
   "cell_type": "markdown",
   "metadata": {},
   "source": [
    "### STEP 5\n",
    "Fit the model on the training set.\n",
    "Note that we are not allowed to use sklearn for this part."
   ]
  },
  {
   "cell_type": "markdown",
   "metadata": {},
   "source": [
    "#### CREATE THE REQUIRED FUNCTIONS"
   ]
  },
  {
   "cell_type": "markdown",
   "metadata": {},
   "source": [
    "##### 1. DEFINE A FUNCTION TO INITIALIZE WEIGHTS\n",
    "This function will intitialize the weights of the model to 0 (if random=False), or to random values (if random=True)"
   ]
  },
  {
   "cell_type": "code",
   "execution_count": 11,
   "metadata": {},
   "outputs": [],
   "source": [
    "def initialize_weights(X, random=False):\n",
    "    len_X = X.shape[1]\n",
    "    \n",
    "    if random:\n",
    "        return np.random.rand(len_X)\n",
    "    return np.zeros(len_X)"
   ]
  },
  {
   "cell_type": "markdown",
   "metadata": {},
   "source": [
    "Test the function from the above cell."
   ]
  },
  {
   "cell_type": "code",
   "execution_count": 12,
   "metadata": {},
   "outputs": [
    {
     "data": {
      "text/plain": [
       "array([0.03925196, 0.77878701, 0.5496157 , 0.931355  ])"
      ]
     },
     "execution_count": 12,
     "metadata": {},
     "output_type": "execute_result"
    }
   ],
   "source": [
    "# Initialize the weights (Randomly)\n",
    "weights = initialize_weights(X_train, random=True)\n",
    "weights"
   ]
  },
  {
   "cell_type": "code",
   "execution_count": 13,
   "metadata": {},
   "outputs": [
    {
     "data": {
      "text/plain": [
       "array([0., 0., 0., 0.])"
      ]
     },
     "execution_count": 13,
     "metadata": {},
     "output_type": "execute_result"
    }
   ],
   "source": [
    "# Initialize the weights (Zeros)\n",
    "weights = initialize_weights(X_train)\n",
    "weights"
   ]
  },
  {
   "cell_type": "markdown",
   "metadata": {},
   "source": [
    "##### 2. DEFINE A FUNCTION THAT RETURNS THE PREDICTED Y (Y_HAT)\n",
    "Returns a vector of the predicted values of y_hat"
   ]
  },
  {
   "cell_type": "code",
   "execution_count": 14,
   "metadata": {},
   "outputs": [],
   "source": [
    "def predict(X, weights):\n",
    "    y_hat = np.dot(X, weights)\n",
    "\n",
    "    return y_hat"
   ]
  },
  {
   "cell_type": "markdown",
   "metadata": {},
   "source": [
    "Test the function from the above cell."
   ]
  },
  {
   "cell_type": "code",
   "execution_count": 15,
   "metadata": {},
   "outputs": [
    {
     "data": {
      "text/html": [
       "<div>\n",
       "<style scoped>\n",
       "    .dataframe tbody tr th:only-of-type {\n",
       "        vertical-align: middle;\n",
       "    }\n",
       "\n",
       "    .dataframe tbody tr th {\n",
       "        vertical-align: top;\n",
       "    }\n",
       "\n",
       "    .dataframe thead th {\n",
       "        text-align: right;\n",
       "    }\n",
       "</style>\n",
       "<table border=\"1\" class=\"dataframe\">\n",
       "  <thead>\n",
       "    <tr style=\"text-align: right;\">\n",
       "      <th></th>\n",
       "      <th>Actual</th>\n",
       "      <th>Predicted</th>\n",
       "    </tr>\n",
       "  </thead>\n",
       "  <tbody>\n",
       "    <tr>\n",
       "      <th>14</th>\n",
       "      <td>0.956403</td>\n",
       "      <td>1.682343</td>\n",
       "    </tr>\n",
       "    <tr>\n",
       "      <th>11</th>\n",
       "      <td>0.648971</td>\n",
       "      <td>0.698314</td>\n",
       "    </tr>\n",
       "    <tr>\n",
       "      <th>147</th>\n",
       "      <td>2.186132</td>\n",
       "      <td>2.349804</td>\n",
       "    </tr>\n",
       "    <tr>\n",
       "      <th>170</th>\n",
       "      <td>-1.080337</td>\n",
       "      <td>-0.746112</td>\n",
       "    </tr>\n",
       "    <tr>\n",
       "      <th>73</th>\n",
       "      <td>-0.580759</td>\n",
       "      <td>0.107455</td>\n",
       "    </tr>\n",
       "    <tr>\n",
       "      <th>...</th>\n",
       "      <td>...</td>\n",
       "      <td>...</td>\n",
       "    </tr>\n",
       "    <tr>\n",
       "      <th>5</th>\n",
       "      <td>-1.310911</td>\n",
       "      <td>0.892645</td>\n",
       "    </tr>\n",
       "    <tr>\n",
       "      <th>130</th>\n",
       "      <td>-2.386924</td>\n",
       "      <td>-0.778212</td>\n",
       "    </tr>\n",
       "    <tr>\n",
       "      <th>56</th>\n",
       "      <td>-1.637558</td>\n",
       "      <td>-0.282966</td>\n",
       "    </tr>\n",
       "    <tr>\n",
       "      <th>47</th>\n",
       "      <td>1.763413</td>\n",
       "      <td>1.612861</td>\n",
       "    </tr>\n",
       "    <tr>\n",
       "      <th>50</th>\n",
       "      <td>-0.503901</td>\n",
       "      <td>0.750681</td>\n",
       "    </tr>\n",
       "  </tbody>\n",
       "</table>\n",
       "<p>170 rows × 2 columns</p>\n",
       "</div>"
      ],
      "text/plain": [
       "       Actual  Predicted\n",
       "14   0.956403   1.682343\n",
       "11   0.648971   0.698314\n",
       "147  2.186132   2.349804\n",
       "170 -1.080337  -0.746112\n",
       "73  -0.580759   0.107455\n",
       "..        ...        ...\n",
       "5   -1.310911   0.892645\n",
       "130 -2.386924  -0.778212\n",
       "56  -1.637558  -0.282966\n",
       "47   1.763413   1.612861\n",
       "50  -0.503901   0.750681\n",
       "\n",
       "[170 rows x 2 columns]"
      ]
     },
     "execution_count": 15,
     "metadata": {},
     "output_type": "execute_result"
    }
   ],
   "source": [
    "# Predict the values of the training set, using a random set of weights\n",
    "y_hat_train = predict(X_train, initialize_weights(X_train, random=True))\n",
    "\n",
    "# We can compare the predicted values to the actual values by creating a new dataframe.\n",
    "df_train = pd.DataFrame({'Actual': y_train, 'Predicted': y_hat_train})\n",
    "df_train"
   ]
  },
  {
   "cell_type": "markdown",
   "metadata": {},
   "source": [
    "As we can see the predicted values and actual values sometimes are close and sometimes are far from each other. This means that our model is not yet accurate.\n",
    "Hence in this activity we will try to improve the accuracy of our model by using gradient descent."
   ]
  },
  {
   "cell_type": "markdown",
   "metadata": {},
   "source": [
    "##### 3. DEFINE A FUNCTION TO COMPUTE FOR THE COST\n",
    "Returns a scalar value that tells use how accurate the model is\n",
    "\n",
    "cost = J_theta = 1/2m * sum(h0(x) - y)^2\n",
    "where m is the length of the dataset, h0(x) is the predicted value of y, and y is the actual value of y"
   ]
  },
  {
   "cell_type": "code",
   "execution_count": 16,
   "metadata": {},
   "outputs": [],
   "source": [
    "def compute_cost(X, y, weights):  \n",
    "    # Initialize the length of the data\n",
    "    # The length of the data is equal to the length of either the response or the features\n",
    "    # For simplicity, we will use the length of the response\n",
    "    m = len(y)\n",
    "\n",
    "    # Calculate the cost function\n",
    "    cost = 1/(2*m) * np.sum((predict(X, weights) - y)**2)\n",
    "    \n",
    "    return cost"
   ]
  },
  {
   "cell_type": "code",
   "execution_count": 17,
   "metadata": {},
   "outputs": [
    {
     "name": "stdout",
     "output_type": "stream",
     "text": [
      "TEST COST: 0.4356594803916451\n"
     ]
    }
   ],
   "source": [
    "# Let us try to check the cost function of the training set, using a random set of weights\n",
    "test_cost = compute_cost(X_train, y_train, initialize_weights(X_train, random=True))\n",
    "print(f\"TEST COST: {test_cost}\")"
   ]
  },
  {
   "cell_type": "markdown",
   "metadata": {},
   "source": [
    "##### 4. DEFINE A FUNCTION TO COMPUTE THE GRADIENT\n",
    "This function returns a matrix (w) that represents the partial derivative of the cost function J(theta_0, theta_1) with respect to each parameter theta_j.\n",
    "\n",
    "w = alpha * 1/m * sum(y_hat - y) * x_j\n",
    "\n",
    "where w is is an array with sa shape of len(feautures) + 1,\n",
    "alpha is the learning rate, m is the length of the dataset,\n",
    "y_hat is the predicted value of y,\n",
    "y is the actual value of y,\n",
    "and x_j is the jth feature of the dataset"
   ]
  },
  {
   "cell_type": "code",
   "execution_count": 18,
   "metadata": {},
   "outputs": [],
   "source": [
    "def compute_gradient(X, y, weights):\n",
    "    # Initialize the length of the data\n",
    "    m = len(y)\n",
    "    \n",
    "    w = 1/m * np.dot(X.T, (predict(X, weights) - y))\n",
    "\n",
    "    return w"
   ]
  },
  {
   "cell_type": "markdown",
   "metadata": {},
   "source": [
    "##### 5. DEFINE A FUNCTION TO UPDATE THE WEIGHTS BASED ON THE GRADIENT FOR THE SPECIFIC ITERATION\n",
    "This function will update the weights for that certain iteration"
   ]
  },
  {
   "cell_type": "code",
   "execution_count": 19,
   "metadata": {},
   "outputs": [],
   "source": [
    "def update_weights(X, y, weights, alpha):\n",
    "    updated_weights = weights - alpha * compute_gradient(X, y, weights)\n",
    "\n",
    "    return updated_weights"
   ]
  },
  {
   "cell_type": "markdown",
   "metadata": {},
   "source": [
    "##### 6. DEFINE A FUNCTION THAT WILL RUN THE GRADIENT DESCENT ALGORITHM\n",
    "This function will return 2 matrices\n",
    "1. Matrix for the weights per iteration\n",
    "2. Matrix fo the costs for each iteration"
   ]
  },
  {
   "cell_type": "code",
   "execution_count": 20,
   "metadata": {},
   "outputs": [],
   "source": [
    "def gradient_descent(X, y, weights, alpha, iterations):\n",
    "    # Since we are to produce 2 matrices, we first initialize these two matrices\n",
    "    weights_history = [0] * iterations\n",
    "    cost_history = [0] * iterations\n",
    "\n",
    "    # Loop through the number of iterations\n",
    "    for i in range(iterations):\n",
    "        # Update the weights\n",
    "        weights = update_weights(X, y, weights, alpha)\n",
    "        # Save the weights in the weights history matrix\n",
    "        weights_history[i] = weights\n",
    "        # Compute the cost\n",
    "        cost = compute_cost(X, y, weights)\n",
    "        # Save the cost in the cost history matrix\n",
    "        cost_history[i] = cost\n",
    "    \n",
    "    return weights_history, cost_history\n"
   ]
  },
  {
   "cell_type": "markdown",
   "metadata": {},
   "source": [
    "##### 7. DEFINE A FUNCTION THAT WILL PLOT THE COSTS FOR EACH ITERATIONS"
   ]
  },
  {
   "cell_type": "code",
   "execution_count": 21,
   "metadata": {},
   "outputs": [],
   "source": [
    "def plot_costs(cost_array):\n",
    "    # Set the size of the plot\n",
    "    plt.figure(figsize=(10, 6))\n",
    "    plt.plot(cost_array)\n",
    "    plt.title('Cost over Iterations')\n",
    "    plt.xlabel('Iterations')\n",
    "    plt.ylabel('Cost')\n",
    "    plt.show()"
   ]
  },
  {
   "cell_type": "markdown",
   "metadata": {},
   "source": [
    "##### 8. PREDICT Y FOR TRAIN SET AND CALCULATE THE COST"
   ]
  },
  {
   "cell_type": "code",
   "execution_count": 22,
   "metadata": {},
   "outputs": [
    {
     "data": {
      "text/html": [
       "<div>\n",
       "<style scoped>\n",
       "    .dataframe tbody tr th:only-of-type {\n",
       "        vertical-align: middle;\n",
       "    }\n",
       "\n",
       "    .dataframe tbody tr th {\n",
       "        vertical-align: top;\n",
       "    }\n",
       "\n",
       "    .dataframe thead th {\n",
       "        text-align: right;\n",
       "    }\n",
       "</style>\n",
       "<table border=\"1\" class=\"dataframe\">\n",
       "  <thead>\n",
       "    <tr style=\"text-align: right;\">\n",
       "      <th></th>\n",
       "      <th>Actual</th>\n",
       "      <th>Predicted</th>\n",
       "    </tr>\n",
       "  </thead>\n",
       "  <tbody>\n",
       "    <tr>\n",
       "      <th>14</th>\n",
       "      <td>0.956403</td>\n",
       "      <td>1.792110</td>\n",
       "    </tr>\n",
       "    <tr>\n",
       "      <th>11</th>\n",
       "      <td>0.648971</td>\n",
       "      <td>1.384720</td>\n",
       "    </tr>\n",
       "    <tr>\n",
       "      <th>147</th>\n",
       "      <td>2.186132</td>\n",
       "      <td>2.544710</td>\n",
       "    </tr>\n",
       "    <tr>\n",
       "      <th>170</th>\n",
       "      <td>-1.080337</td>\n",
       "      <td>-0.199868</td>\n",
       "    </tr>\n",
       "    <tr>\n",
       "      <th>73</th>\n",
       "      <td>-0.580759</td>\n",
       "      <td>0.348834</td>\n",
       "    </tr>\n",
       "    <tr>\n",
       "      <th>...</th>\n",
       "      <td>...</td>\n",
       "      <td>...</td>\n",
       "    </tr>\n",
       "    <tr>\n",
       "      <th>5</th>\n",
       "      <td>-1.310911</td>\n",
       "      <td>0.836894</td>\n",
       "    </tr>\n",
       "    <tr>\n",
       "      <th>130</th>\n",
       "      <td>-2.386924</td>\n",
       "      <td>0.127374</td>\n",
       "    </tr>\n",
       "    <tr>\n",
       "      <th>56</th>\n",
       "      <td>-1.637558</td>\n",
       "      <td>0.050618</td>\n",
       "    </tr>\n",
       "    <tr>\n",
       "      <th>47</th>\n",
       "      <td>1.763413</td>\n",
       "      <td>2.159019</td>\n",
       "    </tr>\n",
       "    <tr>\n",
       "      <th>50</th>\n",
       "      <td>-0.503901</td>\n",
       "      <td>0.861214</td>\n",
       "    </tr>\n",
       "  </tbody>\n",
       "</table>\n",
       "<p>170 rows × 2 columns</p>\n",
       "</div>"
      ],
      "text/plain": [
       "       Actual  Predicted\n",
       "14   0.956403   1.792110\n",
       "11   0.648971   1.384720\n",
       "147  2.186132   2.544710\n",
       "170 -1.080337  -0.199868\n",
       "73  -0.580759   0.348834\n",
       "..        ...        ...\n",
       "5   -1.310911   0.836894\n",
       "130 -2.386924   0.127374\n",
       "56  -1.637558   0.050618\n",
       "47   1.763413   2.159019\n",
       "50  -0.503901   0.861214\n",
       "\n",
       "[170 rows x 2 columns]"
      ]
     },
     "execution_count": 22,
     "metadata": {},
     "output_type": "execute_result"
    }
   ],
   "source": [
    "# Predict y_hat using the test set\n",
    "weights = initialize_weights(X_train, random=True)\n",
    "y_hat_train = predict(X_train, weights)\n",
    "y_hat_train_df = pd.DataFrame({'Actual': y_train, 'Predicted': y_hat_train})\n",
    "y_hat_train_df"
   ]
  },
  {
   "cell_type": "markdown",
   "metadata": {},
   "source": [
    "As we can see from the dataframe above, the predicted values is not that accurate, hence we can assume that the cost is high.\n",
    "Let's try to see it by calculating for the cost below!"
   ]
  },
  {
   "cell_type": "code",
   "execution_count": 23,
   "metadata": {},
   "outputs": [
    {
     "data": {
      "text/plain": [
       "0.5358302405509774"
      ]
     },
     "execution_count": 23,
     "metadata": {},
     "output_type": "execute_result"
    }
   ],
   "source": [
    "# Calculate the cost of the predicted values\n",
    "train_cost = compute_cost(X_train, y_train, weights)\n",
    "train_cost"
   ]
  },
  {
   "cell_type": "markdown",
   "metadata": {},
   "source": [
    "##### 9. PREDICT Y FOR TEST SET AND CALCULATE THE COST"
   ]
  },
  {
   "cell_type": "code",
   "execution_count": 24,
   "metadata": {},
   "outputs": [
    {
     "data": {
      "text/html": [
       "<div>\n",
       "<style scoped>\n",
       "    .dataframe tbody tr th:only-of-type {\n",
       "        vertical-align: middle;\n",
       "    }\n",
       "\n",
       "    .dataframe tbody tr th {\n",
       "        vertical-align: top;\n",
       "    }\n",
       "\n",
       "    .dataframe thead th {\n",
       "        text-align: right;\n",
       "    }\n",
       "</style>\n",
       "<table border=\"1\" class=\"dataframe\">\n",
       "  <thead>\n",
       "    <tr style=\"text-align: right;\">\n",
       "      <th></th>\n",
       "      <th>Actual</th>\n",
       "      <th>Predicted</th>\n",
       "      <th>Residual</th>\n",
       "    </tr>\n",
       "  </thead>\n",
       "  <tbody>\n",
       "    <tr>\n",
       "      <th>188</th>\n",
       "      <td>0.360753</td>\n",
       "      <td>1.415045</td>\n",
       "      <td>-1.054292</td>\n",
       "    </tr>\n",
       "    <tr>\n",
       "      <th>43</th>\n",
       "      <td>-0.215683</td>\n",
       "      <td>0.759420</td>\n",
       "      <td>-0.975103</td>\n",
       "    </tr>\n",
       "    <tr>\n",
       "      <th>97</th>\n",
       "      <td>0.283895</td>\n",
       "      <td>1.062636</td>\n",
       "      <td>-0.778742</td>\n",
       "    </tr>\n",
       "    <tr>\n",
       "      <th>135</th>\n",
       "      <td>-0.465472</td>\n",
       "      <td>0.599420</td>\n",
       "      <td>-1.064892</td>\n",
       "    </tr>\n",
       "    <tr>\n",
       "      <th>143</th>\n",
       "      <td>-0.696046</td>\n",
       "      <td>-0.321645</td>\n",
       "      <td>-0.374402</td>\n",
       "    </tr>\n",
       "    <tr>\n",
       "      <th>134</th>\n",
       "      <td>-0.619188</td>\n",
       "      <td>1.270266</td>\n",
       "      <td>-1.889454</td>\n",
       "    </tr>\n",
       "    <tr>\n",
       "      <th>70</th>\n",
       "      <td>0.821901</td>\n",
       "      <td>2.059657</td>\n",
       "      <td>-1.237756</td>\n",
       "    </tr>\n",
       "    <tr>\n",
       "      <th>146</th>\n",
       "      <td>-0.158039</td>\n",
       "      <td>0.687663</td>\n",
       "      <td>-0.845702</td>\n",
       "    </tr>\n",
       "    <tr>\n",
       "      <th>187</th>\n",
       "      <td>0.629756</td>\n",
       "      <td>1.438396</td>\n",
       "      <td>-0.808640</td>\n",
       "    </tr>\n",
       "    <tr>\n",
       "      <th>185</th>\n",
       "      <td>1.648126</td>\n",
       "      <td>2.449109</td>\n",
       "      <td>-0.800983</td>\n",
       "    </tr>\n",
       "    <tr>\n",
       "      <th>89</th>\n",
       "      <td>0.514469</td>\n",
       "      <td>2.226966</td>\n",
       "      <td>-1.712497</td>\n",
       "    </tr>\n",
       "    <tr>\n",
       "      <th>59</th>\n",
       "      <td>0.841116</td>\n",
       "      <td>1.502421</td>\n",
       "      <td>-0.661305</td>\n",
       "    </tr>\n",
       "    <tr>\n",
       "      <th>55</th>\n",
       "      <td>1.859486</td>\n",
       "      <td>3.463123</td>\n",
       "      <td>-1.603638</td>\n",
       "    </tr>\n",
       "    <tr>\n",
       "      <th>0</th>\n",
       "      <td>1.552053</td>\n",
       "      <td>3.413332</td>\n",
       "      <td>-1.861279</td>\n",
       "    </tr>\n",
       "    <tr>\n",
       "      <th>191</th>\n",
       "      <td>-0.792119</td>\n",
       "      <td>-0.987806</td>\n",
       "      <td>0.195688</td>\n",
       "    </tr>\n",
       "    <tr>\n",
       "      <th>120</th>\n",
       "      <td>0.283895</td>\n",
       "      <td>1.397508</td>\n",
       "      <td>-1.113614</td>\n",
       "    </tr>\n",
       "    <tr>\n",
       "      <th>83</th>\n",
       "      <td>-0.081181</td>\n",
       "      <td>1.271140</td>\n",
       "      <td>-1.352322</td>\n",
       "    </tr>\n",
       "    <tr>\n",
       "      <th>39</th>\n",
       "      <td>1.436766</td>\n",
       "      <td>2.590639</td>\n",
       "      <td>-1.153873</td>\n",
       "    </tr>\n",
       "    <tr>\n",
       "      <th>190</th>\n",
       "      <td>-0.619188</td>\n",
       "      <td>0.147460</td>\n",
       "      <td>-0.766648</td>\n",
       "    </tr>\n",
       "    <tr>\n",
       "      <th>72</th>\n",
       "      <td>-1.003478</td>\n",
       "      <td>-0.112169</td>\n",
       "      <td>-0.891310</td>\n",
       "    </tr>\n",
       "    <tr>\n",
       "      <th>128</th>\n",
       "      <td>2.051631</td>\n",
       "      <td>2.462765</td>\n",
       "      <td>-0.411135</td>\n",
       "    </tr>\n",
       "    <tr>\n",
       "      <th>123</th>\n",
       "      <td>0.226251</td>\n",
       "      <td>0.871354</td>\n",
       "      <td>-0.645103</td>\n",
       "    </tr>\n",
       "    <tr>\n",
       "      <th>165</th>\n",
       "      <td>-0.407828</td>\n",
       "      <td>2.055201</td>\n",
       "      <td>-2.463030</td>\n",
       "    </tr>\n",
       "    <tr>\n",
       "      <th>9</th>\n",
       "      <td>-0.657617</td>\n",
       "      <td>0.277642</td>\n",
       "      <td>-0.935259</td>\n",
       "    </tr>\n",
       "    <tr>\n",
       "      <th>194</th>\n",
       "      <td>0.629756</td>\n",
       "      <td>1.075228</td>\n",
       "      <td>-0.445472</td>\n",
       "    </tr>\n",
       "    <tr>\n",
       "      <th>178</th>\n",
       "      <td>-0.427043</td>\n",
       "      <td>1.154382</td>\n",
       "      <td>-1.581425</td>\n",
       "    </tr>\n",
       "    <tr>\n",
       "      <th>122</th>\n",
       "      <td>-0.465472</td>\n",
       "      <td>0.411763</td>\n",
       "      <td>-0.877234</td>\n",
       "    </tr>\n",
       "    <tr>\n",
       "      <th>10</th>\n",
       "      <td>-1.041908</td>\n",
       "      <td>-0.954295</td>\n",
       "      <td>-0.087612</td>\n",
       "    </tr>\n",
       "    <tr>\n",
       "      <th>110</th>\n",
       "      <td>-0.119610</td>\n",
       "      <td>1.598444</td>\n",
       "      <td>-1.718054</td>\n",
       "    </tr>\n",
       "    <tr>\n",
       "      <th>57</th>\n",
       "      <td>-0.158039</td>\n",
       "      <td>0.325243</td>\n",
       "      <td>-0.483283</td>\n",
       "    </tr>\n",
       "  </tbody>\n",
       "</table>\n",
       "</div>"
      ],
      "text/plain": [
       "       Actual  Predicted  Residual\n",
       "188  0.360753   1.415045 -1.054292\n",
       "43  -0.215683   0.759420 -0.975103\n",
       "97   0.283895   1.062636 -0.778742\n",
       "135 -0.465472   0.599420 -1.064892\n",
       "143 -0.696046  -0.321645 -0.374402\n",
       "134 -0.619188   1.270266 -1.889454\n",
       "70   0.821901   2.059657 -1.237756\n",
       "146 -0.158039   0.687663 -0.845702\n",
       "187  0.629756   1.438396 -0.808640\n",
       "185  1.648126   2.449109 -0.800983\n",
       "89   0.514469   2.226966 -1.712497\n",
       "59   0.841116   1.502421 -0.661305\n",
       "55   1.859486   3.463123 -1.603638\n",
       "0    1.552053   3.413332 -1.861279\n",
       "191 -0.792119  -0.987806  0.195688\n",
       "120  0.283895   1.397508 -1.113614\n",
       "83  -0.081181   1.271140 -1.352322\n",
       "39   1.436766   2.590639 -1.153873\n",
       "190 -0.619188   0.147460 -0.766648\n",
       "72  -1.003478  -0.112169 -0.891310\n",
       "128  2.051631   2.462765 -0.411135\n",
       "123  0.226251   0.871354 -0.645103\n",
       "165 -0.407828   2.055201 -2.463030\n",
       "9   -0.657617   0.277642 -0.935259\n",
       "194  0.629756   1.075228 -0.445472\n",
       "178 -0.427043   1.154382 -1.581425\n",
       "122 -0.465472   0.411763 -0.877234\n",
       "10  -1.041908  -0.954295 -0.087612\n",
       "110 -0.119610   1.598444 -1.718054\n",
       "57  -0.158039   0.325243 -0.483283"
      ]
     },
     "execution_count": 24,
     "metadata": {},
     "output_type": "execute_result"
    }
   ],
   "source": [
    "# Predict y_hat using the test set\n",
    "weights = initialize_weights(X_test, random=True)\n",
    "y_hat_test = predict(X_test, weights)\n",
    "y_hat_test_df = pd.DataFrame({'Actual': y_test, 'Predicted': y_hat_test})\n",
    "y_hat_test_df['Residual'] = y_hat_test_df['Actual'] - y_hat_test_df['Predicted']\n",
    "y_hat_test_df"
   ]
  },
  {
   "cell_type": "markdown",
   "metadata": {},
   "source": [
    "As we can see from the dataframe above, the predicted values is not that accurate, hence we can assume that the cost is high.\n",
    "Let's try to see it by calculating for the cost below!"
   ]
  },
  {
   "cell_type": "code",
   "execution_count": 25,
   "metadata": {},
   "outputs": [
    {
     "data": {
      "text/plain": [
       "0.6745129309222941"
      ]
     },
     "execution_count": 25,
     "metadata": {},
     "output_type": "execute_result"
    }
   ],
   "source": [
    "# Calculate the cost of the predicted values\n",
    "test_cost = compute_cost(X_test, y_test, weights)\n",
    "test_cost"
   ]
  },
  {
   "cell_type": "markdown",
   "metadata": {},
   "source": [
    "### STEP 6\n",
    "Predict the quantitative response y on the training set. Evaluate the model using the MSE cost function defined for the gradient descent."
   ]
  },
  {
   "cell_type": "code",
   "execution_count": 26,
   "metadata": {},
   "outputs": [],
   "source": [
    "# Initialize the weights\n",
    "weights = initialize_weights(X_train, random=True)\n",
    "\n",
    "# Set the iterations and the learning rate\n",
    "iterations = 10000\n",
    "alpha = 0.01\n",
    "\n",
    "# Run the gradient descent algorithm (Training)\n",
    "weights_history_train, cost_history_train = gradient_descent(X_train, y_train, weights, alpha, iterations)\n",
    "# Run the gradient descent algorithm (Test)\n",
    "weights_history_test, cost_history_test = gradient_descent(X_test, y_test, weights, alpha, iterations)"
   ]
  },
  {
   "cell_type": "code",
   "execution_count": 27,
   "metadata": {},
   "outputs": [
    {
     "data": {
      "image/png": "[encoded data removed]",
      "text/plain": [
       "<Figure size 1000x600 with 1 Axes>"
      ]
     },
     "metadata": {},
     "output_type": "display_data"
    }
   ],
   "source": [
    "# USING TRAINING SET\n",
    "# Predict the quantitative response using the train set\n",
    "y_hat_train = predict(X_train, weights_history_train[-1])\n",
    "\n",
    "# Plot the quantitative response of y\n",
    "plt.figure(figsize=(10, 6))\n",
    "plt.scatter(y_train, y_hat_train)\n",
    "plt.title('Actual vs Predicted Quantitative Response (Train Set)')\n",
    "plt.xlabel('Actual Quantitative Response')\n",
    "plt.ylabel('Predicted Quantitative Response')\n",
    "# MSE\n",
    "plt.text(0.5, 0.20, f\"MSE: {mean_squared_error(y_train, y_hat_train)}\", color='red', fontsize=12)\n",
    "# Best Fit Line\n",
    "plt.plot(y_train, y_train, color='blue')\n",
    "plt.show()"
   ]
  },
  {
   "cell_type": "markdown",
   "metadata": {},
   "source": [
    "Evalution of the MSE (Training Set): \n",
    "The MSE is calculated to be 0.0936. It is said that the closer the value of MSE to zero, means the model is more accurate.\n",
    "\n",
    "In that case, we can say that our model is accurate enough to a certain degree.\n",
    "We cannot really say if this is good enough already or maybe there is a model that still exist which have lower MSE value than we currently have. But for our use case this is good enough."
   ]
  },
  {
   "cell_type": "markdown",
   "metadata": {},
   "source": [
    "### STEP 7\n",
    "Predict the quantitative response y on the testing set. Evaluate the model using the MSE cost function defined for the gradient descent."
   ]
  },
  {
   "cell_type": "code",
   "execution_count": 28,
   "metadata": {},
   "outputs": [
    {
     "data": {
      "image/png": "[encoded data removed]",
      "text/plain": [
       "<Figure size 1000x600 with 1 Axes>"
      ]
     },
     "metadata": {},
     "output_type": "display_data"
    }
   ],
   "source": [
    "# USING TEST SET\n",
    "# Predict the quantitative response using the test set\n",
    "y_hat_test = predict(X_test, weights_history_train[-1])\n",
    "\n",
    "# Plot the quantitative response of y\n",
    "plt.figure(figsize=(10, 6))\n",
    "plt.scatter(y_test, y_hat_test)\n",
    "plt.title('Actual vs Predicted Quantitative Response (TEST SET)')\n",
    "plt.xlabel('Actual Quantitative Response')\n",
    "plt.ylabel('Predicted Quantitative Response')\n",
    "# MSE\n",
    "plt.text(0.5, 0.20, f\"MSE: {mean_squared_error(y_test, y_hat_test)}\", color='red', fontsize=12)\n",
    "# Best Fit Line\n",
    "plt.plot(y_test, y_test, color='blue')\n",
    "plt.show()"
   ]
  },
  {
   "cell_type": "markdown",
   "metadata": {},
   "source": [
    "Evalution of the MSE (Test Set): \n",
    "The MSE is calculated to be 0.1594. It is said that the closer the value of MSE to zero, means the model is more accurate.\n",
    "\n",
    "In that case, we can say that our model is accurate enough to a certain degree.\n",
    "We cannot really say if this is good enough already or maybe there is a model that still exist which have lower MSE value than we currently have. But for our use case this is good enough.\n",
    "\n",
    "Also we can take note that our model's MSE on the training dataset is lower than the MSE on the test dataset. Although we cannot say anything yet about this since we are not sure if the difference between the MSE is significant enough (this needs to be tested)."
   ]
  },
  {
   "cell_type": "markdown",
   "metadata": {},
   "source": [
    "### STEP 8\n",
    "Let us use the model to predict the sales on the actual dataset."
   ]
  },
  {
   "cell_type": "code",
   "execution_count": 29,
   "metadata": {},
   "outputs": [
    {
     "data": {
      "text/html": [
       "<div>\n",
       "<style scoped>\n",
       "    .dataframe tbody tr th:only-of-type {\n",
       "        vertical-align: middle;\n",
       "    }\n",
       "\n",
       "    .dataframe tbody tr th {\n",
       "        vertical-align: top;\n",
       "    }\n",
       "\n",
       "    .dataframe thead th {\n",
       "        text-align: right;\n",
       "    }\n",
       "</style>\n",
       "<table border=\"1\" class=\"dataframe\">\n",
       "  <thead>\n",
       "    <tr style=\"text-align: right;\">\n",
       "      <th></th>\n",
       "      <th>TV</th>\n",
       "      <th>Radio</th>\n",
       "      <th>Newspaper</th>\n",
       "      <th>Sales</th>\n",
       "      <th>Predicted Sales</th>\n",
       "      <th>Residuals</th>\n",
       "    </tr>\n",
       "  </thead>\n",
       "  <tbody>\n",
       "    <tr>\n",
       "      <th>0</th>\n",
       "      <td>230.308426</td>\n",
       "      <td>37.836477</td>\n",
       "      <td>69.296979</td>\n",
       "      <td>22.120270</td>\n",
       "      <td>20.546119</td>\n",
       "      <td>1.574151</td>\n",
       "    </tr>\n",
       "    <tr>\n",
       "      <th>1</th>\n",
       "      <td>44.242678</td>\n",
       "      <td>39.340241</td>\n",
       "      <td>45.136502</td>\n",
       "      <td>10.390910</td>\n",
       "      <td>12.167104</td>\n",
       "      <td>-1.776194</td>\n",
       "    </tr>\n",
       "    <tr>\n",
       "      <th>2</th>\n",
       "      <td>16.874171</td>\n",
       "      <td>45.956803</td>\n",
       "      <td>69.397230</td>\n",
       "      <td>9.288149</td>\n",
       "      <td>12.087131</td>\n",
       "      <td>-2.798982</td>\n",
       "    </tr>\n",
       "    <tr>\n",
       "      <th>3</th>\n",
       "      <td>151.511186</td>\n",
       "      <td>41.345260</td>\n",
       "      <td>58.570128</td>\n",
       "      <td>18.511236</td>\n",
       "      <td>17.509396</td>\n",
       "      <td>1.001840</td>\n",
       "    </tr>\n",
       "    <tr>\n",
       "      <th>4</th>\n",
       "      <td>180.884712</td>\n",
       "      <td>10.768723</td>\n",
       "      <td>58.469877</td>\n",
       "      <td>12.897183</td>\n",
       "      <td>13.422293</td>\n",
       "      <td>-0.525110</td>\n",
       "    </tr>\n",
       "    <tr>\n",
       "      <th>...</th>\n",
       "      <td>...</td>\n",
       "      <td>...</td>\n",
       "      <td>...</td>\n",
       "      <td>...</td>\n",
       "      <td>...</td>\n",
       "      <td>...</td>\n",
       "    </tr>\n",
       "    <tr>\n",
       "      <th>195</th>\n",
       "      <td>37.926869</td>\n",
       "      <td>3.650906</td>\n",
       "      <td>13.757957</td>\n",
       "      <td>7.583883</td>\n",
       "      <td>5.498054</td>\n",
       "      <td>2.085829</td>\n",
       "    </tr>\n",
       "    <tr>\n",
       "      <th>196</th>\n",
       "      <td>94.067396</td>\n",
       "      <td>4.853917</td>\n",
       "      <td>8.043654</td>\n",
       "      <td>9.689153</td>\n",
       "      <td>8.315686</td>\n",
       "      <td>1.373467</td>\n",
       "    </tr>\n",
       "    <tr>\n",
       "      <th>197</th>\n",
       "      <td>177.075176</td>\n",
       "      <td>9.264959</td>\n",
       "      <td>6.339388</td>\n",
       "      <td>12.796932</td>\n",
       "      <td>12.954007</td>\n",
       "      <td>-0.157074</td>\n",
       "    </tr>\n",
       "    <tr>\n",
       "      <th>198</th>\n",
       "      <td>283.942679</td>\n",
       "      <td>42.047016</td>\n",
       "      <td>66.289451</td>\n",
       "      <td>25.528802</td>\n",
       "      <td>23.784746</td>\n",
       "      <td>1.744056</td>\n",
       "    </tr>\n",
       "    <tr>\n",
       "      <th>199</th>\n",
       "      <td>232.313445</td>\n",
       "      <td>8.563202</td>\n",
       "      <td>8.645159</td>\n",
       "      <td>13.398438</td>\n",
       "      <td>15.393828</td>\n",
       "      <td>-1.995390</td>\n",
       "    </tr>\n",
       "  </tbody>\n",
       "</table>\n",
       "<p>200 rows × 6 columns</p>\n",
       "</div>"
      ],
      "text/plain": [
       "             TV      Radio  Newspaper      Sales  Predicted Sales  Residuals\n",
       "0    230.308426  37.836477  69.296979  22.120270        20.546119   1.574151\n",
       "1     44.242678  39.340241  45.136502  10.390910        12.167104  -1.776194\n",
       "2     16.874171  45.956803  69.397230   9.288149        12.087131  -2.798982\n",
       "3    151.511186  41.345260  58.570128  18.511236        17.509396   1.001840\n",
       "4    180.884712  10.768723  58.469877  12.897183        13.422293  -0.525110\n",
       "..          ...        ...        ...        ...              ...        ...\n",
       "195   37.926869   3.650906  13.757957   7.583883         5.498054   2.085829\n",
       "196   94.067396   4.853917   8.043654   9.689153         8.315686   1.373467\n",
       "197  177.075176   9.264959   6.339388  12.796932        12.954007  -0.157074\n",
       "198  283.942679  42.047016  66.289451  25.528802        23.784746   1.744056\n",
       "199  232.313445   8.563202   8.645159  13.398438        15.393828  -1.995390\n",
       "\n",
       "[200 rows x 6 columns]"
      ]
     },
     "execution_count": 29,
     "metadata": {},
     "output_type": "execute_result"
    }
   ],
   "source": [
    "df_standardized\n",
    "\n",
    "# Add the Predicted Sales column to the dataframe\n",
    "df_standardized['Predicted Sales'] = predict(df_standardized[['all_ones', 'TV', 'Radio', 'Newspaper']], weights_history_train[-1])\n",
    "\n",
    "\n",
    "# Convert the standardized residuals back to the original scale (for all columns)\n",
    "df_standardized['TV'] = df_standardized['TV'] * df['TV'].std() + df['TV'].mean()\n",
    "df_standardized['Radio'] = df_standardized['Radio'] * df['Radio'].std() + df['Radio'].mean()\n",
    "df_standardized['Newspaper'] = df_standardized['Newspaper'] * df['Newspaper'].std() + df['Newspaper'].mean()\n",
    "df_standardized['Sales'] = df_standardized['Sales'] * df['Sales'].std() + df['Sales'].mean()\n",
    "df_standardized['Predicted Sales'] = df_standardized['Predicted Sales'] * df['Sales'].std() + df['Sales'].mean()\n",
    "\n",
    "# Calculate the Residuals\n",
    "df_standardized['Residuals'] = df_standardized['Sales'] - df_standardized['Predicted Sales']\n",
    "\n",
    "# Drop the all_ones column\n",
    "df_standardized.drop('all_ones', axis=1, inplace=True)\n",
    "\n",
    "df_standardized"
   ]
  },
  {
   "cell_type": "markdown",
   "metadata": {},
   "source": [
    "### STEP 9\n",
    "Observe the cost results and analyze."
   ]
  },
  {
   "cell_type": "code",
   "execution_count": 30,
   "metadata": {},
   "outputs": [
    {
     "data": {
      "image/png": "[encoded data removed]",
      "text/plain": [
       "<Figure size 1000x600 with 1 Axes>"
      ]
     },
     "metadata": {},
     "output_type": "display_data"
    }
   ],
   "source": [
    "# For us to observe the cost reslts, we can simply plot the cost over iterations\n",
    "plt.figure(figsize=(10, 6))\n",
    "plt.plot(cost_history_train, label='Train Cost')\n",
    "plt.plot(cost_history_test, label='Test Cost')\n",
    "plt.title('Cost over Iterations')\n",
    "plt.xlabel('Iterations')\n",
    "plt.ylabel('Cost')\n",
    "plt.legend()\n",
    "plt.show()"
   ]
  },
  {
   "cell_type": "markdown",
   "metadata": {},
   "source": [
    "ANALYSIS: As we can observe from the plot, as we get more and more iteration the cost function value decreases. Which suggests that our model is getting more accurate as we get more and more iterations."
   ]
  },
  {
   "cell_type": "markdown",
   "metadata": {},
   "source": [
    "## QUESTIONS / EXPLORATION"
   ]
  },
  {
   "cell_type": "markdown",
   "metadata": {},
   "source": [
    "### QUESTION 1\n",
    "What are the optimal weights found by your implemented gradient descent? Plug it into the linear model:\n",
    "h0(x) = theta0 + theta1*TV + theta2*Radio + theta3*Newspaper\n",
    "\n",
    "What are your interpretations regarding the formed linear model?"
   ]
  },
  {
   "cell_type": "code",
   "execution_count": 31,
   "metadata": {},
   "outputs": [
    {
     "name": "stdout",
     "output_type": "stream",
     "text": [
      "Optimal Weights: [0.00839899 0.76376547 0.50724348 0.00187478]\n",
      "Linear Regression Equation: y = 0.008398991506633726 + 0.7637654737761796*TV + 0.5072434786604617*Radio + 0.001874777129060655*Newspaper\n"
     ]
    }
   ],
   "source": [
    "# Find the optimal weights using the training set\n",
    "\n",
    "init_w = initialize_weights(X_train) # We will use the zeros weights as our initial weights\n",
    "\n",
    "# Set the iterations and the learning rate\n",
    "iterations = 50000\n",
    "alpha = 0.01\n",
    "\n",
    "# Run the gradient descent algorithm\n",
    "weights_history, cost_history = gradient_descent(X_train, y_train, init_w, alpha, iterations)\n",
    "\n",
    "# Get the final weights (Optimal weights)\n",
    "optimal_weights = weights_history[-1]\n",
    "\n",
    "# Print the optimal weights\n",
    "print(f\"Optimal Weights: {optimal_weights}\")\n",
    "# Print the linear regression equation\n",
    "print(f\"Linear Regression Equation: y = {optimal_weights[0]} + {optimal_weights[1]}*TV + {optimal_weights[2]}*Radio + {optimal_weights[3]}*Newspaper\")"
   ]
  },
  {
   "cell_type": "markdown",
   "metadata": {},
   "source": [
    "Interpreations regarding the formed linear model:\n",
    "1. xxx"
   ]
  },
  {
   "cell_type": "markdown",
   "metadata": {},
   "source": [
    "### QUESTION 2\n",
    "Provide a scatter plot of the actual vs. predicted values for both train and test set.\n",
    "\n",
    "Is there a trend?\n",
    "\n",
    "Provide an r2 score"
   ]
  },
  {
   "cell_type": "code",
   "execution_count": 32,
   "metadata": {},
   "outputs": [
    {
     "data": {
      "image/png": "[encoded data removed]",
      "text/plain": [
       "<Figure size 640x480 with 1 Axes>"
      ]
     },
     "metadata": {},
     "output_type": "display_data"
    }
   ],
   "source": [
    "# Scatter plot of the actual y values against the predicted y values\n",
    "plt.scatter(y_train, predict(X_train, optimal_weights))\n",
    "plt.title('Predicted y values vs Actual y values')\n",
    "plt.xlabel('Actual y values')\n",
    "plt.ylabel('Predicted y values')\n",
    "plt.plot(y_train, y_train, color='red')\n",
    "plt.show()"
   ]
  },
  {
   "cell_type": "markdown",
   "metadata": {},
   "source": [
    "Trend remarks: xxx"
   ]
  },
  {
   "cell_type": "code",
   "execution_count": 33,
   "metadata": {},
   "outputs": [
    {
     "name": "stdout",
     "output_type": "stream",
     "text": [
      "r2 score: 0.902786695352385\n"
     ]
    }
   ],
   "source": [
    "# r2 score of the training set\n",
    "print(f\"r2 score: {r2_score(y_train, predict(X_train, optimal_weights))}\")"
   ]
  },
  {
   "cell_type": "markdown",
   "metadata": {},
   "source": [
    "Interpretation of r2 score: The r^2 score 0.8953 means that 89.53% of the variance in the response variable is explained by the model. This means that our model is 90% accurate in predicting the sales."
   ]
  },
  {
   "cell_type": "markdown",
   "metadata": {},
   "source": [
    "### QUESTION 3\n",
    "What happend to the error, r2, and cost as the number of iterations increases?"
   ]
  },
  {
   "cell_type": "code",
   "execution_count": 34,
   "metadata": {},
   "outputs": [],
   "source": [
    "# Let's calculate the MSE for each iterations using sklearn\n",
    "MSE_array = []\n",
    "for i in range(iterations):\n",
    "    MSE = mean_squared_error(y_train, predict(X_train, weights_history[i]))\n",
    "    MSE_array.append(MSE)"
   ]
  },
  {
   "cell_type": "code",
   "execution_count": 35,
   "metadata": {},
   "outputs": [
    {
     "data": {
      "image/png": "[encoded data removed]",
      "text/plain": [
       "<Figure size 1000x600 with 1 Axes>"
      ]
     },
     "metadata": {},
     "output_type": "display_data"
    }
   ],
   "source": [
    "# Plot the MSE over iterations\n",
    "plt.figure(figsize=(10, 6))\n",
    "plt.plot(MSE_array)\n",
    "plt.title('MSE over Iterations')\n",
    "plt.xlabel('Iterations')\n",
    "plt.xticks(np.arange(0, iterations, 1000), rotation=90)\n",
    "plt.ylabel('MSE')\n",
    "plt.show()"
   ]
  },
  {
   "cell_type": "markdown",
   "metadata": {},
   "source": [
    "As we can observed on the figure above, as the number of iterations the mean square error decreases.\n",
    "Also we can see it plateauing even before reaching 1000 iterations. This means that at that at a particular point, the model is already accurate enough to predict the sales."
   ]
  },
  {
   "cell_type": "code",
   "execution_count": 36,
   "metadata": {},
   "outputs": [
    {
     "data": {
      "image/png": "[encoded data removed]",
      "text/plain": [
       "<Figure size 1000x600 with 1 Axes>"
      ]
     },
     "metadata": {},
     "output_type": "display_data"
    }
   ],
   "source": [
    "# Let's try to zoom in the plot\n",
    "plt.figure(figsize=(10, 6))\n",
    "plt.plot(MSE_array[0:1000])\n",
    "plt.title('MSE over Iterations (first 1000)')\n",
    "plt.xlabel('Iterations')\n",
    "plt.xticks(np.arange(0, 1000, 100), rotation=90)\n",
    "plt.ylabel('MSE')\n",
    "plt.show()"
   ]
  },
  {
   "cell_type": "markdown",
   "metadata": {},
   "source": [
    "Now it becomes clear that around 400 iterations is enough to predict the sales. In the particular dataset we have.\n",
    "\n",
    "Note that 400 iterations may not be the actual optimal number of iterations, we can calculate this later using the r^2 score. The number is based purely on the observation on the given plot above."
   ]
  },
  {
   "cell_type": "code",
   "execution_count": 37,
   "metadata": {},
   "outputs": [],
   "source": [
    "# Let's calculate for the r^2 score for each iterations\n",
    "r2_array = []\n",
    "for i in range(iterations):\n",
    "    r2 = r2_score(y_train, predict(X_train, weights_history[i]))\n",
    "    r2_array.append(r2)"
   ]
  },
  {
   "cell_type": "code",
   "execution_count": 38,
   "metadata": {},
   "outputs": [
    {
     "data": {
      "image/png": "[encoded data removed]",
      "text/plain": [
       "<Figure size 1000x600 with 1 Axes>"
      ]
     },
     "metadata": {},
     "output_type": "display_data"
    },
    {
     "name": "stdout",
     "output_type": "stream",
     "text": [
      "Maximum r^2 score: 0.902786695352385\n"
     ]
    }
   ],
   "source": [
    "# Plot the r^2 score over iterations\n",
    "plt.figure(figsize=(10, 6))\n",
    "plt.plot(r2_array)\n",
    "plt.title('r^2 score over Iterations')\n",
    "plt.xlabel('Iterations')\n",
    "plt.ylabel('r^2 score')\n",
    "plt.yticks(np.arange(0, 1, 0.05))\n",
    "# We can also mark the maximum r^2 score\n",
    "plt.axhline(y=max(r2_array), color='r', linestyle='-')\n",
    "plt.show()\n",
    "\n",
    "\n",
    "# Print the maximum r^2 score\n",
    "print(f\"Maximum r^2 score: {max(r2_array)}\")"
   ]
  },
  {
   "cell_type": "markdown",
   "metadata": {},
   "source": [
    "Wow! The figure from the above cell shows an intersting pattern, as it is the exact reverse of the MSE figure. This means that as the error decreases, the r^2 score increases.\n",
    "Which means that the model is more accurate as the error decreases.\n",
    "\n",
    "We can also see that it is only accurate enough to a certain percentage, which is the maximum r^2 score of 0.9039 or 90.39% accurate."
   ]
  },
  {
   "cell_type": "code",
   "execution_count": 39,
   "metadata": {},
   "outputs": [
    {
     "data": {
      "image/png": "[encoded data removed]",
      "text/plain": [
       "<Figure size 1000x600 with 1 Axes>"
      ]
     },
     "metadata": {},
     "output_type": "display_data"
    }
   ],
   "source": [
    "# Finally, let's plot the cost over iterations\n",
    "plot_costs(cost_history)"
   ]
  },
  {
   "cell_type": "markdown",
   "metadata": {},
   "source": [
    "Well the figure for cost over iterations is the same as with out MSE over iterations plot. Hence we can say that as our error decreases, our cost decreases as well.\n",
    "\n",
    "Which means that as we get more accurate (as we saw in r^2 over iterations plot), our cost decreases."
   ]
  },
  {
   "cell_type": "code",
   "execution_count": 40,
   "metadata": {},
   "outputs": [],
   "source": [
    "# Before we proceed to the next question, let us identify the optimal number of iterations in this dataset.\n",
    "\n",
    "# Let's create a function to find the optimal number of iterations\n",
    "# This function will simply return the number of iterations that gives the maximum r^2 score\n",
    "def optimal_iterations(max_r2, r2_array):\n",
    "    for i in range(len(r2_array)):\n",
    "        if r2_array[i] == max_r2:\n",
    "            return i"
   ]
  },
  {
   "cell_type": "code",
   "execution_count": 41,
   "metadata": {},
   "outputs": [
    {
     "name": "stdout",
     "output_type": "stream",
     "text": [
      "Optimal number of iterations: 3181\n"
     ]
    }
   ],
   "source": [
    "optimal_iterations = optimal_iterations(max(r2_array), r2_array)\n",
    "print(f\"Optimal number of iterations: {optimal_iterations}\")"
   ]
  },
  {
   "cell_type": "code",
   "execution_count": 42,
   "metadata": {},
   "outputs": [
    {
     "name": "stdout",
     "output_type": "stream",
     "text": [
      "Cost at the optimal number of iterations: 0.05057875537778292\n",
      "Weights at the optimal number of iterations: [0.00839899 0.76376547 0.50724347 0.00187478]\n",
      "\n",
      "\n",
      "Cost at the last iteration: 0.05057875537778292\n",
      "Weights at the last iteration: [0.00839899 0.76376547 0.50724348 0.00187478]\n"
     ]
    }
   ],
   "source": [
    "# Let's check the cost at the optimal number of iterations\n",
    "print(f\"Cost at the optimal number of iterations: {cost_history[optimal_iterations]}\")\n",
    "# Also the weights at the optimal number of iterations\n",
    "print(f\"Weights at the optimal number of iterations: {weights_history[optimal_iterations]}\")\n",
    "\n",
    "# Let's compare it at the last iteration\n",
    "print(f\"\\n\\nCost at the last iteration: {cost_history[-1]}\")\n",
    "print(f\"Weights at the last iteration: {weights_history[-1]}\")"
   ]
  },
  {
   "cell_type": "markdown",
   "metadata": {},
   "source": [
    "As we can see there's no actual significant difference between the r^2 score and cost at the optimal number of iterations (2644) and the number of iterations that we have chosen (50,000).\n",
    "\n",
    "Which means we have wasted a lot of time and resources indoing the gradient descent for 50,000 iterations. As there no more greater improvement that is happening to the accuracy of the model at a certain point within the 50,000 iterations.\n",
    "\n",
    "We can improve this by redefining our gradient descent function to stop when the cost score reaches a certain difference threshold.\n",
    "The difference threshold can be set to the difference between the cost score of the current iteration and the cost score of the previous iteration.\n",
    "If the difference is less than the threshold, then we can stop the gradient descent.\n",
    "\n",
    "For example the difference between the cost score of the current iteration and the cost score of the previous iteration is less than 0.0001, then we can stop the gradient descent."
   ]
  },
  {
   "cell_type": "code",
   "execution_count": 43,
   "metadata": {},
   "outputs": [],
   "source": [
    "# Implementation of Gradient Descent Algorithm with Difference Threshold\n",
    "def gradient_descent_optimized(X, y, weights, alpha, iterations, diff_threshold):\n",
    "    # Since we are to produce 2 matrices, we first initialize these two matrices\n",
    "    weights_history = []\n",
    "    cost_history = []\n",
    "    last_iteration = 0\n",
    "\n",
    "    # Loop through the number of iterations\n",
    "    for i in range(iterations):\n",
    "        # Update the weights\n",
    "        weights = update_weights(X, y, weights, alpha)\n",
    "        # Save the weights in the weights history matrix\n",
    "        weights_history.append(weights)\n",
    "        # Compute the cost\n",
    "        cost = compute_cost(X, y, weights)\n",
    "        # Save the cost in the cost history matrix\n",
    "        cost_history.append(cost)\n",
    "\n",
    "        # Check if the difference between the current cost and the previous cost is less than the threshold\n",
    "        if i > 0 and abs(cost_history[i] - cost_history[i-1]) < diff_threshold:\n",
    "            last_iteration = i\n",
    "            # If yes, then we will break out of the loop\n",
    "            break\n",
    "        last_iteration = i\n",
    "        \n",
    "    return weights_history, cost_history, last_iteration"
   ]
  },
  {
   "cell_type": "code",
   "execution_count": 44,
   "metadata": {},
   "outputs": [
    {
     "data": {
      "image/png": "[encoded data removed]",
      "text/plain": [
       "<Figure size 1000x600 with 1 Axes>"
      ]
     },
     "metadata": {},
     "output_type": "display_data"
    }
   ],
   "source": [
    "# Let's try the optimized gradient descent algorithm we made\n",
    "\n",
    "# Set the target iterations and the learning rate\n",
    "iterations = 50000\n",
    "alpha = 0.01\n",
    "\n",
    "# Set the difference threshold\n",
    "diff_threshold = 1.0e-15\n",
    "\n",
    "# Run the optimized gradient descent algorithm\n",
    "weights_history, cost_history, optimal_iterations = gradient_descent_optimized(X_train, y_train, init_w, alpha, iterations, diff_threshold)\n",
    "\n",
    "# plot the cost over iterations\n",
    "plot_costs(cost_history)"
   ]
  },
  {
   "cell_type": "markdown",
   "metadata": {},
   "source": [
    "### QUESTION 4 and 5\n",
    "\n",
    "Once you determine the optimal number of iterations, check the effect on the cost and error as you change the learning rate.\n",
    "\n",
    "Is there a relationship on the learning rate and the number of iterations?"
   ]
  },
  {
   "cell_type": "code",
   "execution_count": 45,
   "metadata": {},
   "outputs": [],
   "source": [
    "init_w = initialize_weights(X_train)\n",
    "\n",
    "# For this will use the optimal iterations based on the previous question.\n",
    "iterations = optimal_iterations\n",
    "\n",
    "# Let us define a list of learning rate that we will be using for us to answer the fourth question effectively.\n",
    "learning_rates = [0.6, 0.5, 0.3, 0.2, 0.1, 0.01, 0.001, 0.0001, 0.00001]\n",
    "\n",
    "# Store the values of the cost and error in the following dictionary\n",
    "cost_dict = {i:0 for i in learning_rates}\n",
    "error_dict = {i:0 for i in learning_rates}\n",
    "cost_history_dict = {i:[] for i in learning_rates}\n",
    "\n",
    "# Loop through the learning rates\n",
    "for alpha in learning_rates:\n",
    "    # Run the gradient descent algorithm\n",
    "    weights_history, cost_history = gradient_descent(X_train, y_train, init_w, alpha, iterations)\n",
    "\n",
    "    # UPDATE THE DICTIONARIES\n",
    "    # Get the final weights (Optimal weights)\n",
    "    cost_dict[alpha] = cost_history[-1]\n",
    "    # Calculate for the MSE\n",
    "    from sklearn.metrics import mean_squared_error\n",
    "    error_dict[alpha] = mean_squared_error(y_train, predict(X_train, weights_history[-1]))\n",
    "    # Save the cost history\n",
    "    cost_history_dict[alpha] = cost_history"
   ]
  },
  {
   "cell_type": "code",
   "execution_count": 46,
   "metadata": {},
   "outputs": [
    {
     "data": {
      "image/png": "[encoded data removed]",
      "text/plain": [
       "<Figure size 1500x500 with 1 Axes>"
      ]
     },
     "metadata": {},
     "output_type": "display_data"
    }
   ],
   "source": [
    "# Plot the cost over iterations for each learning rate (in the same plot)\n",
    "plt.figure(figsize=(15, 5))\n",
    "for alpha in learning_rates:\n",
    "    plt.plot(cost_history_dict[alpha], label=alpha)\n",
    "plt.title('Cost over Iterations for each Learning Rate')\n",
    "plt.xlabel('Iterations')\n",
    "plt.ylabel('Cost')\n",
    "plt.legend()\n",
    "plt.show()"
   ]
  },
  {
   "cell_type": "code",
   "execution_count": 47,
   "metadata": {},
   "outputs": [
    {
     "data": {
      "text/html": [
       "<div>\n",
       "<style scoped>\n",
       "    .dataframe tbody tr th:only-of-type {\n",
       "        vertical-align: middle;\n",
       "    }\n",
       "\n",
       "    .dataframe tbody tr th {\n",
       "        vertical-align: top;\n",
       "    }\n",
       "\n",
       "    .dataframe thead th {\n",
       "        text-align: right;\n",
       "    }\n",
       "</style>\n",
       "<table border=\"1\" class=\"dataframe\">\n",
       "  <thead>\n",
       "    <tr style=\"text-align: right;\">\n",
       "      <th></th>\n",
       "      <th>Learning Rate</th>\n",
       "      <th>Cost</th>\n",
       "      <th>MSE</th>\n",
       "    </tr>\n",
       "  </thead>\n",
       "  <tbody>\n",
       "    <tr>\n",
       "      <th>0</th>\n",
       "      <td>0.60000</td>\n",
       "      <td>0.050579</td>\n",
       "      <td>0.101158</td>\n",
       "    </tr>\n",
       "    <tr>\n",
       "      <th>1</th>\n",
       "      <td>0.50000</td>\n",
       "      <td>0.050579</td>\n",
       "      <td>0.101158</td>\n",
       "    </tr>\n",
       "    <tr>\n",
       "      <th>2</th>\n",
       "      <td>0.30000</td>\n",
       "      <td>0.050579</td>\n",
       "      <td>0.101158</td>\n",
       "    </tr>\n",
       "    <tr>\n",
       "      <th>3</th>\n",
       "      <td>0.20000</td>\n",
       "      <td>0.050579</td>\n",
       "      <td>0.101158</td>\n",
       "    </tr>\n",
       "    <tr>\n",
       "      <th>4</th>\n",
       "      <td>0.10000</td>\n",
       "      <td>0.050579</td>\n",
       "      <td>0.101158</td>\n",
       "    </tr>\n",
       "    <tr>\n",
       "      <th>5</th>\n",
       "      <td>0.01000</td>\n",
       "      <td>0.050579</td>\n",
       "      <td>0.101158</td>\n",
       "    </tr>\n",
       "    <tr>\n",
       "      <th>6</th>\n",
       "      <td>0.00100</td>\n",
       "      <td>0.054599</td>\n",
       "      <td>0.109198</td>\n",
       "    </tr>\n",
       "    <tr>\n",
       "      <th>7</th>\n",
       "      <td>0.00010</td>\n",
       "      <td>0.321063</td>\n",
       "      <td>0.642125</td>\n",
       "    </tr>\n",
       "    <tr>\n",
       "      <th>8</th>\n",
       "      <td>0.00001</td>\n",
       "      <td>0.495163</td>\n",
       "      <td>0.990326</td>\n",
       "    </tr>\n",
       "  </tbody>\n",
       "</table>\n",
       "</div>"
      ],
      "text/plain": [
       "   Learning Rate      Cost       MSE\n",
       "0        0.60000  0.050579  0.101158\n",
       "1        0.50000  0.050579  0.101158\n",
       "2        0.30000  0.050579  0.101158\n",
       "3        0.20000  0.050579  0.101158\n",
       "4        0.10000  0.050579  0.101158\n",
       "5        0.01000  0.050579  0.101158\n",
       "6        0.00100  0.054599  0.109198\n",
       "7        0.00010  0.321063  0.642125\n",
       "8        0.00001  0.495163  0.990326"
      ]
     },
     "execution_count": 47,
     "metadata": {},
     "output_type": "execute_result"
    }
   ],
   "source": [
    "# I think we can use a dataframe to make it easier to read\n",
    "df_learning_rates = pd.DataFrame({'Learning Rate': list(cost_dict.keys()), 'Cost': list(cost_dict.values()), 'MSE': list(error_dict.values())})\n",
    "df_learning_rates"
   ]
  },
  {
   "cell_type": "markdown",
   "metadata": {},
   "source": [
    "For us to better see the relationship between the learning rate and the number of iterations, use the optimized GDA we have created previously and determine the optimal number of iterations for each learning rate."
   ]
  },
  {
   "cell_type": "code",
   "execution_count": 48,
   "metadata": {},
   "outputs": [],
   "source": [
    "init_w = initialize_weights(X_train)\n",
    "\n",
    "# Let's try it with 500K iterations\n",
    "iterations = 500_000\n",
    "\n",
    "# Let us define a list of learning rate that we will be using for us to answer the fifth question effectively.\n",
    "learning_rates = [0.6, 0.5, 0.3, 0.2, 0.1, 0.01, 0.001, 0.0001, 0.00001]\n",
    "\n",
    "# Store the values of the cost and error in the following dictionary\n",
    "cost_dict = {i:0 for i in learning_rates}\n",
    "error_dict = {i:0 for i in learning_rates}\n",
    "cost_history_dict = {i:[] for i in learning_rates}\n",
    "optimal_iterations_dict = {i:0 for i in learning_rates}\n",
    "\n",
    "# Set the difference threshold\n",
    "diff_threshold = 1.0e-15\n",
    "\n",
    "# Loop through the learning rates\n",
    "# Use CUDA to speed up the process (Since I am using an NVIDIA GPU, I can utilize the CUDA cores :) )\n",
    "for alpha in learning_rates:\n",
    "    # Run the gradient descent algorithm\n",
    "    weights_history, cost_history, optimal_iterations = gradient_descent_optimized(X_train, y_train, init_w, alpha, iterations, diff_threshold)\n",
    "\n",
    "    # UPDATE THE DICTIONARIES\n",
    "    # Get the final weights (Optimal weights)\n",
    "    cost_dict[alpha] = cost_history[-1]\n",
    "    # Calculate for the MSE\n",
    "    from sklearn.metrics import mean_squared_error\n",
    "    error_dict[alpha] = mean_squared_error(y_train, predict(X_train, weights_history[-1]))\n",
    "    # Save the cost history\n",
    "    cost_history_dict[alpha] = cost_history\n",
    "    # Save the optimal iterations\n",
    "    optimal_iterations_dict[alpha] = optimal_iterations"
   ]
  },
  {
   "cell_type": "code",
   "execution_count": 49,
   "metadata": {},
   "outputs": [
    {
     "data": {
      "image/png": "[encoded data removed]",
      "text/plain": [
       "<Figure size 1500x500 with 1 Axes>"
      ]
     },
     "metadata": {},
     "output_type": "display_data"
    }
   ],
   "source": [
    "# Plot the cost over iterations for each learning rate (in the same plot)\n",
    "plt.figure(figsize=(15, 5))\n",
    "for alpha in learning_rates:\n",
    "    plt.plot(cost_history_dict[alpha], label=alpha)\n",
    "plt.title('Cost over Iterations for each Learning Rate')\n",
    "plt.xlabel('Iterations')\n",
    "plt.ylabel('Cost')\n",
    "plt.legend()\n",
    "plt.show()"
   ]
  },
  {
   "cell_type": "code",
   "execution_count": 50,
   "metadata": {},
   "outputs": [
    {
     "data": {
      "text/html": [
       "<div>\n",
       "<style scoped>\n",
       "    .dataframe tbody tr th:only-of-type {\n",
       "        vertical-align: middle;\n",
       "    }\n",
       "\n",
       "    .dataframe tbody tr th {\n",
       "        vertical-align: top;\n",
       "    }\n",
       "\n",
       "    .dataframe thead th {\n",
       "        text-align: right;\n",
       "    }\n",
       "</style>\n",
       "<table border=\"1\" class=\"dataframe\">\n",
       "  <thead>\n",
       "    <tr style=\"text-align: right;\">\n",
       "      <th></th>\n",
       "      <th>Learning Rate</th>\n",
       "      <th>Cost</th>\n",
       "      <th>MSE</th>\n",
       "      <th>Optimal Iterations</th>\n",
       "    </tr>\n",
       "  </thead>\n",
       "  <tbody>\n",
       "    <tr>\n",
       "      <th>0</th>\n",
       "      <td>0.60000</td>\n",
       "      <td>0.050579</td>\n",
       "      <td>0.101158</td>\n",
       "      <td>38</td>\n",
       "    </tr>\n",
       "    <tr>\n",
       "      <th>1</th>\n",
       "      <td>0.50000</td>\n",
       "      <td>0.050579</td>\n",
       "      <td>0.101158</td>\n",
       "      <td>47</td>\n",
       "    </tr>\n",
       "    <tr>\n",
       "      <th>2</th>\n",
       "      <td>0.30000</td>\n",
       "      <td>0.050579</td>\n",
       "      <td>0.101158</td>\n",
       "      <td>81</td>\n",
       "    </tr>\n",
       "    <tr>\n",
       "      <th>3</th>\n",
       "      <td>0.20000</td>\n",
       "      <td>0.050579</td>\n",
       "      <td>0.101158</td>\n",
       "      <td>124</td>\n",
       "    </tr>\n",
       "    <tr>\n",
       "      <th>4</th>\n",
       "      <td>0.10000</td>\n",
       "      <td>0.050579</td>\n",
       "      <td>0.101158</td>\n",
       "      <td>250</td>\n",
       "    </tr>\n",
       "    <tr>\n",
       "      <th>5</th>\n",
       "      <td>0.01000</td>\n",
       "      <td>0.050579</td>\n",
       "      <td>0.101158</td>\n",
       "      <td>2356</td>\n",
       "    </tr>\n",
       "    <tr>\n",
       "      <th>6</th>\n",
       "      <td>0.00100</td>\n",
       "      <td>0.050579</td>\n",
       "      <td>0.101158</td>\n",
       "      <td>21541</td>\n",
       "    </tr>\n",
       "    <tr>\n",
       "      <th>7</th>\n",
       "      <td>0.00010</td>\n",
       "      <td>0.050579</td>\n",
       "      <td>0.101158</td>\n",
       "      <td>194735</td>\n",
       "    </tr>\n",
       "    <tr>\n",
       "      <th>8</th>\n",
       "      <td>0.00001</td>\n",
       "      <td>0.050685</td>\n",
       "      <td>0.101369</td>\n",
       "      <td>499999</td>\n",
       "    </tr>\n",
       "  </tbody>\n",
       "</table>\n",
       "</div>"
      ],
      "text/plain": [
       "   Learning Rate      Cost       MSE  Optimal Iterations\n",
       "0        0.60000  0.050579  0.101158                  38\n",
       "1        0.50000  0.050579  0.101158                  47\n",
       "2        0.30000  0.050579  0.101158                  81\n",
       "3        0.20000  0.050579  0.101158                 124\n",
       "4        0.10000  0.050579  0.101158                 250\n",
       "5        0.01000  0.050579  0.101158                2356\n",
       "6        0.00100  0.050579  0.101158               21541\n",
       "7        0.00010  0.050579  0.101158              194735\n",
       "8        0.00001  0.050685  0.101369              499999"
      ]
     },
     "execution_count": 50,
     "metadata": {},
     "output_type": "execute_result"
    }
   ],
   "source": [
    "df_learning_rates = pd.DataFrame({'Learning Rate': list(cost_dict.keys()), 'Cost': list(cost_dict.values()), 'MSE': list(error_dict.values()), 'Optimal Iterations': list(optimal_iterations_dict.values())})\n",
    "df_learning_rates"
   ]
  },
  {
   "cell_type": "markdown",
   "metadata": {},
   "source": [
    "Relationship between the learning rate and the number of iterations:\n",
    "As the learning rate increases, the number of iterations needed to reach optimal iteration (based on a certain threshold) decreases. And vice versa."
   ]
  },
  {
   "cell_type": "markdown",
   "metadata": {},
   "source": [
    "### QUESTION 6\n",
    "Compare the results with the results of the sklearn implementation (Ordinary Least Squares)."
   ]
  },
  {
   "cell_type": "code",
   "execution_count": 51,
   "metadata": {},
   "outputs": [
    {
     "name": "stdout",
     "output_type": "stream",
     "text": [
      "r^2 score (OLS): 0.9027866953523849\n",
      "r^2 score (GDA): 0.902786695352385\n"
     ]
    }
   ],
   "source": [
    "# Use Oridinary Least Squares from sklearn\n",
    "from sklearn.linear_model import LinearRegression\n",
    "ols = LinearRegression()\n",
    "ols.fit(X_train, y_train).coef_\n",
    "\n",
    "# Get the r^2 score for the OLS and the gradient descent\n",
    "r2_OLS = r2_score(y_train, ols.predict(X_train))\n",
    "r2_GDA = r2_array[-1]\n",
    "\n",
    "print(f\"r^2 score (OLS): {r2_OLS}\")\n",
    "print(f\"r^2 score (GDA): {r2_GDA}\")"
   ]
  }
 ],
 "metadata": {
  "kernelspec": {
   "display_name": "Python 3.10.7 64-bit",
   "language": "python",
   "name": "python3"
  },
  "language_info": {
   "codemirror_mode": {
    "name": "ipython",
    "version": 3
   },
   "file_extension": ".py",
   "mimetype": "text/x-python",
   "name": "python",
   "nbconvert_exporter": "python",
   "pygments_lexer": "ipython3",
   "version": "3.10.7"
  },
  "orig_nbformat": 4,
  "vscode": {
   "interpreter": {
    "hash": "1224d32f05aa8d9d17993b21a51be44b2d1966ef541559ad6beae9001f15c664"
   }
  }
 },
 "nbformat": 4,
 "nbformat_minor": 2
}
